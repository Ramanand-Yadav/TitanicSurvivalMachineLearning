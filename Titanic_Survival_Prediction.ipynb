{
  "cells": [
    {
      "cell_type": "markdown",
      "metadata": {
        "id": "view-in-github",
        "colab_type": "text"
      },
      "source": [
        "<a href=\"https://colab.research.google.com/github/Ramanand-Yadav/TitanicSurvivalMachineLearning/blob/main/Titanic_Survival_Prediction.ipynb\" target=\"_parent\"><img src=\"https://colab.research.google.com/assets/colab-badge.svg\" alt=\"Open In Colab\"/></a>"
      ]
    },
    {
      "cell_type": "markdown",
      "id": "ec7e4272",
      "metadata": {
        "papermill": {
          "duration": 0.031078,
          "end_time": "2022-03-07T10:13:05.209427",
          "exception": false,
          "start_time": "2022-03-07T10:13:05.178349",
          "status": "completed"
        },
        "tags": [],
        "id": "ec7e4272"
      },
      "source": [
        "# **Titanic Survival Preiction**"
      ]
    },
    {
      "cell_type": "markdown",
      "id": "cf3d2673",
      "metadata": {
        "papermill": {
          "duration": 0.028533,
          "end_time": "2022-03-07T10:13:05.270254",
          "exception": false,
          "start_time": "2022-03-07T10:13:05.241721",
          "status": "completed"
        },
        "tags": [],
        "id": "cf3d2673"
      },
      "source": [
        "**In the following scipt we will use the following models!**\n",
        "* SVC\n",
        "* Random Forest Classifier\n",
        "* Logistic Regression\n",
        "* XGBOOST\n",
        "\n",
        "**At last we will ensembled them using the voting classifier with higher weights for the higher acc models**"
      ]
    },
    {
      "cell_type": "code",
      "execution_count": null,
      "id": "e2a61b78",
      "metadata": {
        "execution": {
          "iopub.execute_input": "2022-03-07T10:13:05.408499Z",
          "iopub.status.busy": "2022-03-07T10:13:05.406095Z",
          "iopub.status.idle": "2022-03-07T10:13:06.327228Z",
          "shell.execute_reply": "2022-03-07T10:13:06.326664Z",
          "shell.execute_reply.started": "2022-03-07T10:05:35.449153Z"
        },
        "papermill": {
          "duration": 0.953123,
          "end_time": "2022-03-07T10:13:06.327370",
          "exception": false,
          "start_time": "2022-03-07T10:13:05.374247",
          "status": "completed"
        },
        "tags": [],
        "id": "e2a61b78"
      },
      "outputs": [],
      "source": [
        "import pandas as pd\n",
        "import numpy as np\n",
        "import matplotlib.pyplot as plt\n",
        "import seaborn as sns\n",
        "\n",
        "# just for good color\n",
        "palette=sns.color_palette('magma')\n",
        "sns.set(palette=palette)"
      ]
    },
    {
      "cell_type": "code",
      "execution_count": null,
      "id": "b221abab",
      "metadata": {
        "execution": {
          "iopub.execute_input": "2022-03-07T10:13:06.394561Z",
          "iopub.status.busy": "2022-03-07T10:13:06.393685Z",
          "iopub.status.idle": "2022-03-07T10:13:06.439350Z",
          "shell.execute_reply": "2022-03-07T10:13:06.439773Z",
          "shell.execute_reply.started": "2022-03-07T10:05:36.357643Z"
        },
        "papermill": {
          "duration": 0.078098,
          "end_time": "2022-03-07T10:13:06.439923",
          "exception": false,
          "start_time": "2022-03-07T10:13:06.361825",
          "status": "completed"
        },
        "tags": [],
        "colab": {
          "base_uri": "https://localhost:8080/",
          "height": 334
        },
        "id": "b221abab",
        "outputId": "bd06f860-95e2-413d-90a3-a9a2c29872bc"
      },
      "outputs": [
        {
          "output_type": "execute_result",
          "data": {
            "text/html": [
              "\n",
              "  <div id=\"df-8f1f86c7-c03a-4b9b-a4f7-f03143104b8b\">\n",
              "    <div class=\"colab-df-container\">\n",
              "      <div>\n",
              "<style scoped>\n",
              "    .dataframe tbody tr th:only-of-type {\n",
              "        vertical-align: middle;\n",
              "    }\n",
              "\n",
              "    .dataframe tbody tr th {\n",
              "        vertical-align: top;\n",
              "    }\n",
              "\n",
              "    .dataframe thead th {\n",
              "        text-align: right;\n",
              "    }\n",
              "</style>\n",
              "<table border=\"1\" class=\"dataframe\">\n",
              "  <thead>\n",
              "    <tr style=\"text-align: right;\">\n",
              "      <th></th>\n",
              "      <th>Survived</th>\n",
              "      <th>Pclass</th>\n",
              "      <th>Name</th>\n",
              "      <th>Sex</th>\n",
              "      <th>Age</th>\n",
              "      <th>SibSp</th>\n",
              "      <th>Parch</th>\n",
              "      <th>Ticket</th>\n",
              "      <th>Fare</th>\n",
              "      <th>Cabin</th>\n",
              "      <th>Embarked</th>\n",
              "    </tr>\n",
              "    <tr>\n",
              "      <th>PassengerId</th>\n",
              "      <th></th>\n",
              "      <th></th>\n",
              "      <th></th>\n",
              "      <th></th>\n",
              "      <th></th>\n",
              "      <th></th>\n",
              "      <th></th>\n",
              "      <th></th>\n",
              "      <th></th>\n",
              "      <th></th>\n",
              "      <th></th>\n",
              "    </tr>\n",
              "  </thead>\n",
              "  <tbody>\n",
              "    <tr>\n",
              "      <th>1</th>\n",
              "      <td>0</td>\n",
              "      <td>3</td>\n",
              "      <td>Braund, Mr. Owen Harris</td>\n",
              "      <td>male</td>\n",
              "      <td>22.0</td>\n",
              "      <td>1</td>\n",
              "      <td>0</td>\n",
              "      <td>A/5 21171</td>\n",
              "      <td>7.2500</td>\n",
              "      <td>NaN</td>\n",
              "      <td>S</td>\n",
              "    </tr>\n",
              "    <tr>\n",
              "      <th>2</th>\n",
              "      <td>1</td>\n",
              "      <td>1</td>\n",
              "      <td>Cumings, Mrs. John Bradley (Florence Briggs Th...</td>\n",
              "      <td>female</td>\n",
              "      <td>38.0</td>\n",
              "      <td>1</td>\n",
              "      <td>0</td>\n",
              "      <td>PC 17599</td>\n",
              "      <td>71.2833</td>\n",
              "      <td>C85</td>\n",
              "      <td>C</td>\n",
              "    </tr>\n",
              "    <tr>\n",
              "      <th>3</th>\n",
              "      <td>1</td>\n",
              "      <td>3</td>\n",
              "      <td>Heikkinen, Miss. Laina</td>\n",
              "      <td>female</td>\n",
              "      <td>26.0</td>\n",
              "      <td>0</td>\n",
              "      <td>0</td>\n",
              "      <td>STON/O2. 3101282</td>\n",
              "      <td>7.9250</td>\n",
              "      <td>NaN</td>\n",
              "      <td>S</td>\n",
              "    </tr>\n",
              "    <tr>\n",
              "      <th>4</th>\n",
              "      <td>1</td>\n",
              "      <td>1</td>\n",
              "      <td>Futrelle, Mrs. Jacques Heath (Lily May Peel)</td>\n",
              "      <td>female</td>\n",
              "      <td>35.0</td>\n",
              "      <td>1</td>\n",
              "      <td>0</td>\n",
              "      <td>113803</td>\n",
              "      <td>53.1000</td>\n",
              "      <td>C123</td>\n",
              "      <td>S</td>\n",
              "    </tr>\n",
              "    <tr>\n",
              "      <th>5</th>\n",
              "      <td>0</td>\n",
              "      <td>3</td>\n",
              "      <td>Allen, Mr. William Henry</td>\n",
              "      <td>male</td>\n",
              "      <td>35.0</td>\n",
              "      <td>0</td>\n",
              "      <td>0</td>\n",
              "      <td>373450</td>\n",
              "      <td>8.0500</td>\n",
              "      <td>NaN</td>\n",
              "      <td>S</td>\n",
              "    </tr>\n",
              "  </tbody>\n",
              "</table>\n",
              "</div>\n",
              "      <button class=\"colab-df-convert\" onclick=\"convertToInteractive('df-8f1f86c7-c03a-4b9b-a4f7-f03143104b8b')\"\n",
              "              title=\"Convert this dataframe to an interactive table.\"\n",
              "              style=\"display:none;\">\n",
              "        \n",
              "  <svg xmlns=\"http://www.w3.org/2000/svg\" height=\"24px\"viewBox=\"0 0 24 24\"\n",
              "       width=\"24px\">\n",
              "    <path d=\"M0 0h24v24H0V0z\" fill=\"none\"/>\n",
              "    <path d=\"M18.56 5.44l.94 2.06.94-2.06 2.06-.94-2.06-.94-.94-2.06-.94 2.06-2.06.94zm-11 1L8.5 8.5l.94-2.06 2.06-.94-2.06-.94L8.5 2.5l-.94 2.06-2.06.94zm10 10l.94 2.06.94-2.06 2.06-.94-2.06-.94-.94-2.06-.94 2.06-2.06.94z\"/><path d=\"M17.41 7.96l-1.37-1.37c-.4-.4-.92-.59-1.43-.59-.52 0-1.04.2-1.43.59L10.3 9.45l-7.72 7.72c-.78.78-.78 2.05 0 2.83L4 21.41c.39.39.9.59 1.41.59.51 0 1.02-.2 1.41-.59l7.78-7.78 2.81-2.81c.8-.78.8-2.07 0-2.86zM5.41 20L4 18.59l7.72-7.72 1.47 1.35L5.41 20z\"/>\n",
              "  </svg>\n",
              "      </button>\n",
              "      \n",
              "  <style>\n",
              "    .colab-df-container {\n",
              "      display:flex;\n",
              "      flex-wrap:wrap;\n",
              "      gap: 12px;\n",
              "    }\n",
              "\n",
              "    .colab-df-convert {\n",
              "      background-color: #E8F0FE;\n",
              "      border: none;\n",
              "      border-radius: 50%;\n",
              "      cursor: pointer;\n",
              "      display: none;\n",
              "      fill: #1967D2;\n",
              "      height: 32px;\n",
              "      padding: 0 0 0 0;\n",
              "      width: 32px;\n",
              "    }\n",
              "\n",
              "    .colab-df-convert:hover {\n",
              "      background-color: #E2EBFA;\n",
              "      box-shadow: 0px 1px 2px rgba(60, 64, 67, 0.3), 0px 1px 3px 1px rgba(60, 64, 67, 0.15);\n",
              "      fill: #174EA6;\n",
              "    }\n",
              "\n",
              "    [theme=dark] .colab-df-convert {\n",
              "      background-color: #3B4455;\n",
              "      fill: #D2E3FC;\n",
              "    }\n",
              "\n",
              "    [theme=dark] .colab-df-convert:hover {\n",
              "      background-color: #434B5C;\n",
              "      box-shadow: 0px 1px 3px 1px rgba(0, 0, 0, 0.15);\n",
              "      filter: drop-shadow(0px 1px 2px rgba(0, 0, 0, 0.3));\n",
              "      fill: #FFFFFF;\n",
              "    }\n",
              "  </style>\n",
              "\n",
              "      <script>\n",
              "        const buttonEl =\n",
              "          document.querySelector('#df-8f1f86c7-c03a-4b9b-a4f7-f03143104b8b button.colab-df-convert');\n",
              "        buttonEl.style.display =\n",
              "          google.colab.kernel.accessAllowed ? 'block' : 'none';\n",
              "\n",
              "        async function convertToInteractive(key) {\n",
              "          const element = document.querySelector('#df-8f1f86c7-c03a-4b9b-a4f7-f03143104b8b');\n",
              "          const dataTable =\n",
              "            await google.colab.kernel.invokeFunction('convertToInteractive',\n",
              "                                                     [key], {});\n",
              "          if (!dataTable) return;\n",
              "\n",
              "          const docLinkHtml = 'Like what you see? Visit the ' +\n",
              "            '<a target=\"_blank\" href=https://colab.research.google.com/notebooks/data_table.ipynb>data table notebook</a>'\n",
              "            + ' to learn more about interactive tables.';\n",
              "          element.innerHTML = '';\n",
              "          dataTable['output_type'] = 'display_data';\n",
              "          await google.colab.output.renderOutput(dataTable, element);\n",
              "          const docLink = document.createElement('div');\n",
              "          docLink.innerHTML = docLinkHtml;\n",
              "          element.appendChild(docLink);\n",
              "        }\n",
              "      </script>\n",
              "    </div>\n",
              "  </div>\n",
              "  "
            ],
            "text/plain": [
              "             Survived  Pclass  \\\n",
              "PassengerId                     \n",
              "1                   0       3   \n",
              "2                   1       1   \n",
              "3                   1       3   \n",
              "4                   1       1   \n",
              "5                   0       3   \n",
              "\n",
              "                                                          Name     Sex   Age  \\\n",
              "PassengerId                                                                    \n",
              "1                                      Braund, Mr. Owen Harris    male  22.0   \n",
              "2            Cumings, Mrs. John Bradley (Florence Briggs Th...  female  38.0   \n",
              "3                                       Heikkinen, Miss. Laina  female  26.0   \n",
              "4                 Futrelle, Mrs. Jacques Heath (Lily May Peel)  female  35.0   \n",
              "5                                     Allen, Mr. William Henry    male  35.0   \n",
              "\n",
              "             SibSp  Parch            Ticket     Fare Cabin Embarked  \n",
              "PassengerId                                                          \n",
              "1                1      0         A/5 21171   7.2500   NaN        S  \n",
              "2                1      0          PC 17599  71.2833   C85        C  \n",
              "3                0      0  STON/O2. 3101282   7.9250   NaN        S  \n",
              "4                1      0            113803  53.1000  C123        S  \n",
              "5                0      0            373450   8.0500   NaN        S  "
            ]
          },
          "metadata": {},
          "execution_count": 69
        }
      ],
      "source": [
        "train_data=pd.read_csv('https://raw.githubusercontent.com/Ramanand-Yadav/TitanicSurvivalMachineLearning/main/Dataset.csv', index_col='PassengerId')\n",
        "\n",
        "train_data.head()"
      ]
    },
    {
      "cell_type": "markdown",
      "source": [
        "\n",
        "\n",
        "Variable  \tDefinition  \tKey\n",
        "\n",
        "\n",
        "---\n",
        "\n",
        "\n",
        "survival:\tSurvival:\t0 = No, 1 = Yes\n",
        "pclass:\tTicket class:\t1 = 1st, 2 = 2nd, 3 = 3rd\n",
        "sex\t: Sex\t\n",
        "Age\t: Age in years\t\n",
        "sibsp :\t# of siblings / spouses aboard the Titanic\t\n",
        "parch :\t# of parents / children aboard the Titanic\t\n",
        "ticket :\tTicket number\t\n",
        "fare :\tPassenger fare\t\n",
        "cabin\t: Cabin number\t\n",
        "embarked :\tPort of Embarkation\tC = Cherbourg, Q = Queenstown : S = Southampton\n",
        "\n"
      ],
      "metadata": {
        "id": "3Zvif7qAF2FF"
      },
      "id": "3Zvif7qAF2FF"
    },
    {
      "cell_type": "code",
      "execution_count": null,
      "id": "8de824ab",
      "metadata": {
        "execution": {
          "iopub.execute_input": "2022-03-07T10:13:06.504808Z",
          "iopub.status.busy": "2022-03-07T10:13:06.504261Z",
          "iopub.status.idle": "2022-03-07T10:13:06.509408Z",
          "shell.execute_reply": "2022-03-07T10:13:06.509861Z",
          "shell.execute_reply.started": "2022-03-07T10:05:36.411936Z"
        },
        "papermill": {
          "duration": 0.040209,
          "end_time": "2022-03-07T10:13:06.510031",
          "exception": false,
          "start_time": "2022-03-07T10:13:06.469822",
          "status": "completed"
        },
        "tags": [],
        "id": "8de824ab"
      },
      "outputs": [],
      "source": [
        "#Dropping the Name and Ticket columns \n",
        "train_data_clean=train_data.drop(['Name','Ticket'], axis=1)"
      ]
    },
    {
      "cell_type": "code",
      "execution_count": null,
      "id": "5751c4e1",
      "metadata": {
        "execution": {
          "iopub.execute_input": "2022-03-07T10:13:06.574169Z",
          "iopub.status.busy": "2022-03-07T10:13:06.573567Z",
          "iopub.status.idle": "2022-03-07T10:13:06.586446Z",
          "shell.execute_reply": "2022-03-07T10:13:06.586917Z",
          "shell.execute_reply.started": "2022-03-07T10:05:36.419360Z"
        },
        "papermill": {
          "duration": 0.047199,
          "end_time": "2022-03-07T10:13:06.587089",
          "exception": false,
          "start_time": "2022-03-07T10:13:06.539890",
          "status": "completed"
        },
        "tags": [],
        "colab": {
          "base_uri": "https://localhost:8080/"
        },
        "id": "5751c4e1",
        "outputId": "a036ed1b-9308-4c8d-b30e-9200670b86d5"
      },
      "outputs": [
        {
          "output_type": "stream",
          "name": "stdout",
          "text": [
            "<class 'pandas.core.frame.DataFrame'>\n",
            "Int64Index: 891 entries, 1 to 891\n",
            "Data columns (total 9 columns):\n",
            " #   Column    Non-Null Count  Dtype  \n",
            "---  ------    --------------  -----  \n",
            " 0   Survived  891 non-null    int64  \n",
            " 1   Pclass    891 non-null    int64  \n",
            " 2   Sex       891 non-null    object \n",
            " 3   Age       714 non-null    float64\n",
            " 4   SibSp     891 non-null    int64  \n",
            " 5   Parch     891 non-null    int64  \n",
            " 6   Fare      891 non-null    float64\n",
            " 7   Cabin     204 non-null    object \n",
            " 8   Embarked  889 non-null    object \n",
            "dtypes: float64(2), int64(4), object(3)\n",
            "memory usage: 69.6+ KB\n"
          ]
        }
      ],
      "source": [
        "train_data_clean.info()"
      ]
    },
    {
      "cell_type": "code",
      "execution_count": null,
      "id": "049d7c8c",
      "metadata": {
        "execution": {
          "iopub.execute_input": "2022-03-07T10:13:06.650885Z",
          "iopub.status.busy": "2022-03-07T10:13:06.650028Z",
          "iopub.status.idle": "2022-03-07T10:13:06.665166Z",
          "shell.execute_reply": "2022-03-07T10:13:06.665595Z",
          "shell.execute_reply.started": "2022-03-07T10:05:36.442273Z"
        },
        "papermill": {
          "duration": 0.048351,
          "end_time": "2022-03-07T10:13:06.665747",
          "exception": false,
          "start_time": "2022-03-07T10:13:06.617396",
          "status": "completed"
        },
        "tags": [],
        "colab": {
          "base_uri": "https://localhost:8080/",
          "height": 237
        },
        "id": "049d7c8c",
        "outputId": "c397cca1-69ec-49d6-e575-1c914215c0e2"
      },
      "outputs": [
        {
          "output_type": "execute_result",
          "data": {
            "text/html": [
              "\n",
              "  <div id=\"df-ad07e9c3-7b0e-44e8-814e-065ced7cedb5\">\n",
              "    <div class=\"colab-df-container\">\n",
              "      <div>\n",
              "<style scoped>\n",
              "    .dataframe tbody tr th:only-of-type {\n",
              "        vertical-align: middle;\n",
              "    }\n",
              "\n",
              "    .dataframe tbody tr th {\n",
              "        vertical-align: top;\n",
              "    }\n",
              "\n",
              "    .dataframe thead th {\n",
              "        text-align: right;\n",
              "    }\n",
              "</style>\n",
              "<table border=\"1\" class=\"dataframe\">\n",
              "  <thead>\n",
              "    <tr style=\"text-align: right;\">\n",
              "      <th></th>\n",
              "      <th>Survived</th>\n",
              "      <th>Pclass</th>\n",
              "      <th>Sex</th>\n",
              "      <th>Age</th>\n",
              "      <th>SibSp</th>\n",
              "      <th>Parch</th>\n",
              "      <th>Fare</th>\n",
              "      <th>Cabin</th>\n",
              "      <th>Embarked</th>\n",
              "      <th>CabinLetter</th>\n",
              "    </tr>\n",
              "    <tr>\n",
              "      <th>PassengerId</th>\n",
              "      <th></th>\n",
              "      <th></th>\n",
              "      <th></th>\n",
              "      <th></th>\n",
              "      <th></th>\n",
              "      <th></th>\n",
              "      <th></th>\n",
              "      <th></th>\n",
              "      <th></th>\n",
              "      <th></th>\n",
              "    </tr>\n",
              "  </thead>\n",
              "  <tbody>\n",
              "    <tr>\n",
              "      <th>1</th>\n",
              "      <td>0</td>\n",
              "      <td>3</td>\n",
              "      <td>male</td>\n",
              "      <td>22.0</td>\n",
              "      <td>1</td>\n",
              "      <td>0</td>\n",
              "      <td>7.2500</td>\n",
              "      <td>NaN</td>\n",
              "      <td>S</td>\n",
              "      <td>NaN</td>\n",
              "    </tr>\n",
              "    <tr>\n",
              "      <th>2</th>\n",
              "      <td>1</td>\n",
              "      <td>1</td>\n",
              "      <td>female</td>\n",
              "      <td>38.0</td>\n",
              "      <td>1</td>\n",
              "      <td>0</td>\n",
              "      <td>71.2833</td>\n",
              "      <td>C85</td>\n",
              "      <td>C</td>\n",
              "      <td>C</td>\n",
              "    </tr>\n",
              "    <tr>\n",
              "      <th>3</th>\n",
              "      <td>1</td>\n",
              "      <td>3</td>\n",
              "      <td>female</td>\n",
              "      <td>26.0</td>\n",
              "      <td>0</td>\n",
              "      <td>0</td>\n",
              "      <td>7.9250</td>\n",
              "      <td>NaN</td>\n",
              "      <td>S</td>\n",
              "      <td>NaN</td>\n",
              "    </tr>\n",
              "    <tr>\n",
              "      <th>4</th>\n",
              "      <td>1</td>\n",
              "      <td>1</td>\n",
              "      <td>female</td>\n",
              "      <td>35.0</td>\n",
              "      <td>1</td>\n",
              "      <td>0</td>\n",
              "      <td>53.1000</td>\n",
              "      <td>C123</td>\n",
              "      <td>S</td>\n",
              "      <td>C</td>\n",
              "    </tr>\n",
              "    <tr>\n",
              "      <th>5</th>\n",
              "      <td>0</td>\n",
              "      <td>3</td>\n",
              "      <td>male</td>\n",
              "      <td>35.0</td>\n",
              "      <td>0</td>\n",
              "      <td>0</td>\n",
              "      <td>8.0500</td>\n",
              "      <td>NaN</td>\n",
              "      <td>S</td>\n",
              "      <td>NaN</td>\n",
              "    </tr>\n",
              "  </tbody>\n",
              "</table>\n",
              "</div>\n",
              "      <button class=\"colab-df-convert\" onclick=\"convertToInteractive('df-ad07e9c3-7b0e-44e8-814e-065ced7cedb5')\"\n",
              "              title=\"Convert this dataframe to an interactive table.\"\n",
              "              style=\"display:none;\">\n",
              "        \n",
              "  <svg xmlns=\"http://www.w3.org/2000/svg\" height=\"24px\"viewBox=\"0 0 24 24\"\n",
              "       width=\"24px\">\n",
              "    <path d=\"M0 0h24v24H0V0z\" fill=\"none\"/>\n",
              "    <path d=\"M18.56 5.44l.94 2.06.94-2.06 2.06-.94-2.06-.94-.94-2.06-.94 2.06-2.06.94zm-11 1L8.5 8.5l.94-2.06 2.06-.94-2.06-.94L8.5 2.5l-.94 2.06-2.06.94zm10 10l.94 2.06.94-2.06 2.06-.94-2.06-.94-.94-2.06-.94 2.06-2.06.94z\"/><path d=\"M17.41 7.96l-1.37-1.37c-.4-.4-.92-.59-1.43-.59-.52 0-1.04.2-1.43.59L10.3 9.45l-7.72 7.72c-.78.78-.78 2.05 0 2.83L4 21.41c.39.39.9.59 1.41.59.51 0 1.02-.2 1.41-.59l7.78-7.78 2.81-2.81c.8-.78.8-2.07 0-2.86zM5.41 20L4 18.59l7.72-7.72 1.47 1.35L5.41 20z\"/>\n",
              "  </svg>\n",
              "      </button>\n",
              "      \n",
              "  <style>\n",
              "    .colab-df-container {\n",
              "      display:flex;\n",
              "      flex-wrap:wrap;\n",
              "      gap: 12px;\n",
              "    }\n",
              "\n",
              "    .colab-df-convert {\n",
              "      background-color: #E8F0FE;\n",
              "      border: none;\n",
              "      border-radius: 50%;\n",
              "      cursor: pointer;\n",
              "      display: none;\n",
              "      fill: #1967D2;\n",
              "      height: 32px;\n",
              "      padding: 0 0 0 0;\n",
              "      width: 32px;\n",
              "    }\n",
              "\n",
              "    .colab-df-convert:hover {\n",
              "      background-color: #E2EBFA;\n",
              "      box-shadow: 0px 1px 2px rgba(60, 64, 67, 0.3), 0px 1px 3px 1px rgba(60, 64, 67, 0.15);\n",
              "      fill: #174EA6;\n",
              "    }\n",
              "\n",
              "    [theme=dark] .colab-df-convert {\n",
              "      background-color: #3B4455;\n",
              "      fill: #D2E3FC;\n",
              "    }\n",
              "\n",
              "    [theme=dark] .colab-df-convert:hover {\n",
              "      background-color: #434B5C;\n",
              "      box-shadow: 0px 1px 3px 1px rgba(0, 0, 0, 0.15);\n",
              "      filter: drop-shadow(0px 1px 2px rgba(0, 0, 0, 0.3));\n",
              "      fill: #FFFFFF;\n",
              "    }\n",
              "  </style>\n",
              "\n",
              "      <script>\n",
              "        const buttonEl =\n",
              "          document.querySelector('#df-ad07e9c3-7b0e-44e8-814e-065ced7cedb5 button.colab-df-convert');\n",
              "        buttonEl.style.display =\n",
              "          google.colab.kernel.accessAllowed ? 'block' : 'none';\n",
              "\n",
              "        async function convertToInteractive(key) {\n",
              "          const element = document.querySelector('#df-ad07e9c3-7b0e-44e8-814e-065ced7cedb5');\n",
              "          const dataTable =\n",
              "            await google.colab.kernel.invokeFunction('convertToInteractive',\n",
              "                                                     [key], {});\n",
              "          if (!dataTable) return;\n",
              "\n",
              "          const docLinkHtml = 'Like what you see? Visit the ' +\n",
              "            '<a target=\"_blank\" href=https://colab.research.google.com/notebooks/data_table.ipynb>data table notebook</a>'\n",
              "            + ' to learn more about interactive tables.';\n",
              "          element.innerHTML = '';\n",
              "          dataTable['output_type'] = 'display_data';\n",
              "          await google.colab.output.renderOutput(dataTable, element);\n",
              "          const docLink = document.createElement('div');\n",
              "          docLink.innerHTML = docLinkHtml;\n",
              "          element.appendChild(docLink);\n",
              "        }\n",
              "      </script>\n",
              "    </div>\n",
              "  </div>\n",
              "  "
            ],
            "text/plain": [
              "             Survived  Pclass     Sex   Age  SibSp  Parch     Fare Cabin  \\\n",
              "PassengerId                                                                \n",
              "1                   0       3    male  22.0      1      0   7.2500   NaN   \n",
              "2                   1       1  female  38.0      1      0  71.2833   C85   \n",
              "3                   1       3  female  26.0      0      0   7.9250   NaN   \n",
              "4                   1       1  female  35.0      1      0  53.1000  C123   \n",
              "5                   0       3    male  35.0      0      0   8.0500   NaN   \n",
              "\n",
              "            Embarked CabinLetter  \n",
              "PassengerId                       \n",
              "1                  S         NaN  \n",
              "2                  C           C  \n",
              "3                  S         NaN  \n",
              "4                  S           C  \n",
              "5                  S         NaN  "
            ]
          },
          "metadata": {},
          "execution_count": 72
        }
      ],
      "source": [
        "#I noticed that there are over 600 null values in the Cabin column which is over 70%\n",
        "#Extracting the cabin letter into a new column\n",
        "train_data_clean['CabinLetter'] = train_data_clean['Cabin'].str.extract('(\\w)')\n",
        "train_data_clean.head()"
      ]
    },
    {
      "cell_type": "markdown",
      "id": "02cc3cb2",
      "metadata": {
        "papermill": {
          "duration": 0.030188,
          "end_time": "2022-03-07T10:13:06.726402",
          "exception": false,
          "start_time": "2022-03-07T10:13:06.696214",
          "status": "completed"
        },
        "tags": [],
        "id": "02cc3cb2"
      },
      "source": [
        "# **Visualizations**"
      ]
    },
    {
      "cell_type": "code",
      "execution_count": null,
      "id": "500fb390",
      "metadata": {
        "execution": {
          "iopub.execute_input": "2022-03-07T10:13:06.790379Z",
          "iopub.status.busy": "2022-03-07T10:13:06.789742Z",
          "iopub.status.idle": "2022-03-07T10:13:07.061755Z",
          "shell.execute_reply": "2022-03-07T10:13:07.062279Z",
          "shell.execute_reply.started": "2022-03-07T10:05:37.003873Z"
        },
        "papermill": {
          "duration": 0.305749,
          "end_time": "2022-03-07T10:13:07.062434",
          "exception": false,
          "start_time": "2022-03-07T10:13:06.756685",
          "status": "completed"
        },
        "tags": [],
        "colab": {
          "base_uri": "https://localhost:8080/",
          "height": 309
        },
        "id": "500fb390",
        "outputId": "84099c92-7b04-41ee-e739-b80b35a43b70"
      },
      "outputs": [
        {
          "output_type": "display_data",
          "data": {
            "image/png": "[encoded data removed]",
            "text/plain": [
              "<Figure size 432x288 with 1 Axes>"
            ]
          },
          "metadata": {}
        }
      ],
      "source": [
        "#Filling the null cabin letters with 'unknown' as a value\n",
        "train_data_clean['CabinLetter'].fillna('Unknown', inplace=True)\n",
        "train_data_clean['CabinLetter'].value_counts().plot(kind='bar')\n",
        "\n",
        "train_data_clean['CabinLetter'].value_counts().plot(kind='bar')\n",
        "plt.show()"
      ]
    },
    {
      "cell_type": "code",
      "execution_count": null,
      "id": "89636cd7",
      "metadata": {
        "execution": {
          "iopub.execute_input": "2022-03-07T10:13:07.131481Z",
          "iopub.status.busy": "2022-03-07T10:13:07.130655Z",
          "iopub.status.idle": "2022-03-07T10:13:07.132724Z",
          "shell.execute_reply": "2022-03-07T10:13:07.133172Z",
          "shell.execute_reply.started": "2022-03-07T10:05:37.470980Z"
        },
        "papermill": {
          "duration": 0.039634,
          "end_time": "2022-03-07T10:13:07.133329",
          "exception": false,
          "start_time": "2022-03-07T10:13:07.093695",
          "status": "completed"
        },
        "tags": [],
        "id": "89636cd7"
      },
      "outputs": [],
      "source": [
        "#Dropping the Cabin column\n",
        "train_data_clean.drop(['Cabin'], axis=1, inplace=True)"
      ]
    },
    {
      "cell_type": "code",
      "execution_count": null,
      "id": "0dd0d2b1",
      "metadata": {
        "execution": {
          "iopub.execute_input": "2022-03-07T10:13:07.199391Z",
          "iopub.status.busy": "2022-03-07T10:13:07.198497Z",
          "iopub.status.idle": "2022-03-07T10:13:07.210719Z",
          "shell.execute_reply": "2022-03-07T10:13:07.211214Z",
          "shell.execute_reply.started": "2022-03-07T10:05:38.393591Z"
        },
        "papermill": {
          "duration": 0.046835,
          "end_time": "2022-03-07T10:13:07.211371",
          "exception": false,
          "start_time": "2022-03-07T10:13:07.164536",
          "status": "completed"
        },
        "tags": [],
        "colab": {
          "base_uri": "https://localhost:8080/"
        },
        "id": "0dd0d2b1",
        "outputId": "38983046-102e-4898-a374-4e25a4afa1b5"
      },
      "outputs": [
        {
          "output_type": "stream",
          "name": "stdout",
          "text": [
            "<class 'pandas.core.frame.DataFrame'>\n",
            "Int64Index: 889 entries, 1 to 891\n",
            "Data columns (total 9 columns):\n",
            " #   Column       Non-Null Count  Dtype  \n",
            "---  ------       --------------  -----  \n",
            " 0   Survived     889 non-null    int64  \n",
            " 1   Pclass       889 non-null    int64  \n",
            " 2   Sex          889 non-null    object \n",
            " 3   Age          712 non-null    float64\n",
            " 4   SibSp        889 non-null    int64  \n",
            " 5   Parch        889 non-null    int64  \n",
            " 6   Fare         889 non-null    float64\n",
            " 7   Embarked     889 non-null    object \n",
            " 8   CabinLetter  889 non-null    object \n",
            "dtypes: float64(2), int64(4), object(3)\n",
            "memory usage: 69.5+ KB\n"
          ]
        }
      ],
      "source": [
        "#Embarked has only 2 missing values so im gonna drop them\n",
        "train_data_clean = train_data_clean[train_data_clean['Embarked'].notna()]\n",
        "train_data_clean.info()"
      ]
    },
    {
      "cell_type": "code",
      "execution_count": null,
      "id": "ea34eb99",
      "metadata": {
        "execution": {
          "iopub.execute_input": "2022-03-07T10:13:07.277330Z",
          "iopub.status.busy": "2022-03-07T10:13:07.276772Z",
          "iopub.status.idle": "2022-03-07T10:13:07.280784Z",
          "shell.execute_reply": "2022-03-07T10:13:07.281317Z",
          "shell.execute_reply.started": "2022-03-07T10:05:42.959023Z"
        },
        "papermill": {
          "duration": 0.038275,
          "end_time": "2022-03-07T10:13:07.281465",
          "exception": false,
          "start_time": "2022-03-07T10:13:07.243190",
          "status": "completed"
        },
        "tags": [],
        "colab": {
          "base_uri": "https://localhost:8080/"
        },
        "id": "ea34eb99",
        "outputId": "e6c29980-21e7-43b6-b150-0d42a180dbd1"
      },
      "outputs": [
        {
          "output_type": "stream",
          "name": "stderr",
          "text": [
            "/usr/local/lib/python3.7/dist-packages/ipykernel_launcher.py:2: SettingWithCopyWarning: \n",
            "A value is trying to be set on a copy of a slice from a DataFrame.\n",
            "Try using .loc[row_indexer,col_indexer] = value instead\n",
            "\n",
            "See the caveats in the documentation: https://pandas.pydata.org/pandas-docs/stable/user_guide/indexing.html#returning-a-view-versus-a-copy\n",
            "  \n"
          ]
        }
      ],
      "source": [
        "#Creating a new feature 'relatives' which consists of SibSp+Parch\n",
        "train_data_clean['relatives']=train_data_clean['SibSp']+train_data_clean['Parch']"
      ]
    },
    {
      "cell_type": "code",
      "source": [
        ""
      ],
      "metadata": {
        "id": "Wdim5cB0bcPc"
      },
      "id": "Wdim5cB0bcPc",
      "execution_count": null,
      "outputs": []
    },
    {
      "cell_type": "code",
      "source": [
        "train_data_clean.columns"
      ],
      "metadata": {
        "colab": {
          "base_uri": "https://localhost:8080/"
        },
        "id": "tsu29vhWbKiW",
        "outputId": "f1be7b5e-6a5c-48f8-a248-9bd94a7f86ba"
      },
      "id": "tsu29vhWbKiW",
      "execution_count": null,
      "outputs": [
        {
          "output_type": "execute_result",
          "data": {
            "text/plain": [
              "Index(['Survived', 'Pclass', 'Sex', 'Age', 'SibSp', 'Parch', 'Fare',\n",
              "       'Embarked', 'CabinLetter', 'relatives'],\n",
              "      dtype='object')"
            ]
          },
          "metadata": {},
          "execution_count": 79
        }
      ]
    },
    {
      "cell_type": "markdown",
      "id": "16bdbb1c",
      "metadata": {
        "papermill": {
          "duration": 0.037363,
          "end_time": "2022-03-07T10:13:09.104488",
          "exception": false,
          "start_time": "2022-03-07T10:13:09.067125",
          "status": "completed"
        },
        "tags": [],
        "id": "16bdbb1c"
      },
      "source": [
        "# Split"
      ]
    },
    {
      "cell_type": "code",
      "execution_count": null,
      "id": "510221f3",
      "metadata": {
        "execution": {
          "iopub.execute_input": "2022-03-07T10:13:09.183172Z",
          "iopub.status.busy": "2022-03-07T10:13:09.182241Z",
          "iopub.status.idle": "2022-03-07T10:13:09.195975Z",
          "shell.execute_reply": "2022-03-07T10:13:09.196457Z",
          "shell.execute_reply.started": "2022-03-07T10:05:55.329751Z"
        },
        "papermill": {
          "duration": 0.05475,
          "end_time": "2022-03-07T10:13:09.196619",
          "exception": false,
          "start_time": "2022-03-07T10:13:09.141869",
          "status": "completed"
        },
        "tags": [],
        "colab": {
          "base_uri": "https://localhost:8080/",
          "height": 237
        },
        "id": "510221f3",
        "outputId": "5283da7d-a5c4-4944-d603-5e5a3567b14e"
      },
      "outputs": [
        {
          "output_type": "execute_result",
          "data": {
            "text/html": [
              "\n",
              "  <div id=\"df-4a794c9b-3583-4ce3-b1be-0414f6e4f713\">\n",
              "    <div class=\"colab-df-container\">\n",
              "      <div>\n",
              "<style scoped>\n",
              "    .dataframe tbody tr th:only-of-type {\n",
              "        vertical-align: middle;\n",
              "    }\n",
              "\n",
              "    .dataframe tbody tr th {\n",
              "        vertical-align: top;\n",
              "    }\n",
              "\n",
              "    .dataframe thead th {\n",
              "        text-align: right;\n",
              "    }\n",
              "</style>\n",
              "<table border=\"1\" class=\"dataframe\">\n",
              "  <thead>\n",
              "    <tr style=\"text-align: right;\">\n",
              "      <th></th>\n",
              "      <th>Pclass</th>\n",
              "      <th>Sex</th>\n",
              "      <th>Age</th>\n",
              "      <th>SibSp</th>\n",
              "      <th>Parch</th>\n",
              "      <th>Fare</th>\n",
              "      <th>Embarked</th>\n",
              "      <th>CabinLetter</th>\n",
              "      <th>relatives</th>\n",
              "    </tr>\n",
              "    <tr>\n",
              "      <th>PassengerId</th>\n",
              "      <th></th>\n",
              "      <th></th>\n",
              "      <th></th>\n",
              "      <th></th>\n",
              "      <th></th>\n",
              "      <th></th>\n",
              "      <th></th>\n",
              "      <th></th>\n",
              "      <th></th>\n",
              "    </tr>\n",
              "  </thead>\n",
              "  <tbody>\n",
              "    <tr>\n",
              "      <th>1</th>\n",
              "      <td>3</td>\n",
              "      <td>male</td>\n",
              "      <td>22.0</td>\n",
              "      <td>1</td>\n",
              "      <td>0</td>\n",
              "      <td>7.2500</td>\n",
              "      <td>S</td>\n",
              "      <td>Unknown</td>\n",
              "      <td>1</td>\n",
              "    </tr>\n",
              "    <tr>\n",
              "      <th>2</th>\n",
              "      <td>1</td>\n",
              "      <td>female</td>\n",
              "      <td>38.0</td>\n",
              "      <td>1</td>\n",
              "      <td>0</td>\n",
              "      <td>71.2833</td>\n",
              "      <td>C</td>\n",
              "      <td>C</td>\n",
              "      <td>1</td>\n",
              "    </tr>\n",
              "    <tr>\n",
              "      <th>3</th>\n",
              "      <td>3</td>\n",
              "      <td>female</td>\n",
              "      <td>26.0</td>\n",
              "      <td>0</td>\n",
              "      <td>0</td>\n",
              "      <td>7.9250</td>\n",
              "      <td>S</td>\n",
              "      <td>Unknown</td>\n",
              "      <td>0</td>\n",
              "    </tr>\n",
              "    <tr>\n",
              "      <th>4</th>\n",
              "      <td>1</td>\n",
              "      <td>female</td>\n",
              "      <td>35.0</td>\n",
              "      <td>1</td>\n",
              "      <td>0</td>\n",
              "      <td>53.1000</td>\n",
              "      <td>S</td>\n",
              "      <td>C</td>\n",
              "      <td>1</td>\n",
              "    </tr>\n",
              "    <tr>\n",
              "      <th>5</th>\n",
              "      <td>3</td>\n",
              "      <td>male</td>\n",
              "      <td>35.0</td>\n",
              "      <td>0</td>\n",
              "      <td>0</td>\n",
              "      <td>8.0500</td>\n",
              "      <td>S</td>\n",
              "      <td>Unknown</td>\n",
              "      <td>0</td>\n",
              "    </tr>\n",
              "  </tbody>\n",
              "</table>\n",
              "</div>\n",
              "      <button class=\"colab-df-convert\" onclick=\"convertToInteractive('df-4a794c9b-3583-4ce3-b1be-0414f6e4f713')\"\n",
              "              title=\"Convert this dataframe to an interactive table.\"\n",
              "              style=\"display:none;\">\n",
              "        \n",
              "  <svg xmlns=\"http://www.w3.org/2000/svg\" height=\"24px\"viewBox=\"0 0 24 24\"\n",
              "       width=\"24px\">\n",
              "    <path d=\"M0 0h24v24H0V0z\" fill=\"none\"/>\n",
              "    <path d=\"M18.56 5.44l.94 2.06.94-2.06 2.06-.94-2.06-.94-.94-2.06-.94 2.06-2.06.94zm-11 1L8.5 8.5l.94-2.06 2.06-.94-2.06-.94L8.5 2.5l-.94 2.06-2.06.94zm10 10l.94 2.06.94-2.06 2.06-.94-2.06-.94-.94-2.06-.94 2.06-2.06.94z\"/><path d=\"M17.41 7.96l-1.37-1.37c-.4-.4-.92-.59-1.43-.59-.52 0-1.04.2-1.43.59L10.3 9.45l-7.72 7.72c-.78.78-.78 2.05 0 2.83L4 21.41c.39.39.9.59 1.41.59.51 0 1.02-.2 1.41-.59l7.78-7.78 2.81-2.81c.8-.78.8-2.07 0-2.86zM5.41 20L4 18.59l7.72-7.72 1.47 1.35L5.41 20z\"/>\n",
              "  </svg>\n",
              "      </button>\n",
              "      \n",
              "  <style>\n",
              "    .colab-df-container {\n",
              "      display:flex;\n",
              "      flex-wrap:wrap;\n",
              "      gap: 12px;\n",
              "    }\n",
              "\n",
              "    .colab-df-convert {\n",
              "      background-color: #E8F0FE;\n",
              "      border: none;\n",
              "      border-radius: 50%;\n",
              "      cursor: pointer;\n",
              "      display: none;\n",
              "      fill: #1967D2;\n",
              "      height: 32px;\n",
              "      padding: 0 0 0 0;\n",
              "      width: 32px;\n",
              "    }\n",
              "\n",
              "    .colab-df-convert:hover {\n",
              "      background-color: #E2EBFA;\n",
              "      box-shadow: 0px 1px 2px rgba(60, 64, 67, 0.3), 0px 1px 3px 1px rgba(60, 64, 67, 0.15);\n",
              "      fill: #174EA6;\n",
              "    }\n",
              "\n",
              "    [theme=dark] .colab-df-convert {\n",
              "      background-color: #3B4455;\n",
              "      fill: #D2E3FC;\n",
              "    }\n",
              "\n",
              "    [theme=dark] .colab-df-convert:hover {\n",
              "      background-color: #434B5C;\n",
              "      box-shadow: 0px 1px 3px 1px rgba(0, 0, 0, 0.15);\n",
              "      filter: drop-shadow(0px 1px 2px rgba(0, 0, 0, 0.3));\n",
              "      fill: #FFFFFF;\n",
              "    }\n",
              "  </style>\n",
              "\n",
              "      <script>\n",
              "        const buttonEl =\n",
              "          document.querySelector('#df-4a794c9b-3583-4ce3-b1be-0414f6e4f713 button.colab-df-convert');\n",
              "        buttonEl.style.display =\n",
              "          google.colab.kernel.accessAllowed ? 'block' : 'none';\n",
              "\n",
              "        async function convertToInteractive(key) {\n",
              "          const element = document.querySelector('#df-4a794c9b-3583-4ce3-b1be-0414f6e4f713');\n",
              "          const dataTable =\n",
              "            await google.colab.kernel.invokeFunction('convertToInteractive',\n",
              "                                                     [key], {});\n",
              "          if (!dataTable) return;\n",
              "\n",
              "          const docLinkHtml = 'Like what you see? Visit the ' +\n",
              "            '<a target=\"_blank\" href=https://colab.research.google.com/notebooks/data_table.ipynb>data table notebook</a>'\n",
              "            + ' to learn more about interactive tables.';\n",
              "          element.innerHTML = '';\n",
              "          dataTable['output_type'] = 'display_data';\n",
              "          await google.colab.output.renderOutput(dataTable, element);\n",
              "          const docLink = document.createElement('div');\n",
              "          docLink.innerHTML = docLinkHtml;\n",
              "          element.appendChild(docLink);\n",
              "        }\n",
              "      </script>\n",
              "    </div>\n",
              "  </div>\n",
              "  "
            ],
            "text/plain": [
              "             Pclass     Sex   Age  SibSp  Parch     Fare Embarked CabinLetter  \\\n",
              "PassengerId                                                                     \n",
              "1                 3    male  22.0      1      0   7.2500        S     Unknown   \n",
              "2                 1  female  38.0      1      0  71.2833        C           C   \n",
              "3                 3  female  26.0      0      0   7.9250        S     Unknown   \n",
              "4                 1  female  35.0      1      0  53.1000        S           C   \n",
              "5                 3    male  35.0      0      0   8.0500        S     Unknown   \n",
              "\n",
              "             relatives  \n",
              "PassengerId             \n",
              "1                    1  \n",
              "2                    1  \n",
              "3                    0  \n",
              "4                    1  \n",
              "5                    0  "
            ]
          },
          "metadata": {},
          "execution_count": 80
        }
      ],
      "source": [
        "X= train_data_clean.drop('Survived', axis=1)\n",
        "y= train_data_clean['Survived']\n",
        "\n",
        "X.head()"
      ]
    },
    {
      "cell_type": "markdown",
      "id": "dc28d1e5",
      "metadata": {
        "papermill": {
          "duration": 0.037089,
          "end_time": "2022-03-07T10:13:09.271718",
          "exception": false,
          "start_time": "2022-03-07T10:13:09.234629",
          "status": "completed"
        },
        "tags": [],
        "id": "dc28d1e5"
      },
      "source": [
        "# **Preprocessing**"
      ]
    },
    {
      "cell_type": "code",
      "execution_count": null,
      "id": "6e335726",
      "metadata": {
        "execution": {
          "iopub.execute_input": "2022-03-07T10:13:09.351862Z",
          "iopub.status.busy": "2022-03-07T10:13:09.349497Z",
          "iopub.status.idle": "2022-03-07T10:13:09.641444Z",
          "shell.execute_reply": "2022-03-07T10:13:09.641884Z",
          "shell.execute_reply.started": "2022-03-07T10:05:59.452526Z"
        },
        "papermill": {
          "duration": 0.332625,
          "end_time": "2022-03-07T10:13:09.642075",
          "exception": false,
          "start_time": "2022-03-07T10:13:09.309450",
          "status": "completed"
        },
        "tags": [],
        "colab": {
          "base_uri": "https://localhost:8080/"
        },
        "id": "6e335726",
        "outputId": "8deac5c4-c8a1-4380-f518-bde4ff0406a6"
      },
      "outputs": [
        {
          "output_type": "execute_result",
          "data": {
            "text/plain": [
              "['Sex', 'Embarked', 'CabinLetter']"
            ]
          },
          "metadata": {},
          "execution_count": 81
        }
      ],
      "source": [
        "from sklearn.compose import ColumnTransformer\n",
        "from sklearn.pipeline import Pipeline\n",
        "from sklearn.impute import SimpleImputer\n",
        "from sklearn.preprocessing import OneHotEncoder, StandardScaler, MinMaxScaler\n",
        "\n",
        "#Select categorical columns\n",
        "categorical_cols = [col for col in X.columns if X[col].dtype == 'object']\n",
        "categorical_cols"
      ]
    },
    {
      "cell_type": "code",
      "execution_count": null,
      "id": "d335d5c9",
      "metadata": {
        "execution": {
          "iopub.execute_input": "2022-03-07T10:13:09.721993Z",
          "iopub.status.busy": "2022-03-07T10:13:09.721441Z",
          "iopub.status.idle": "2022-03-07T10:13:09.727457Z",
          "shell.execute_reply": "2022-03-07T10:13:09.726899Z",
          "shell.execute_reply.started": "2022-03-07T10:05:59.727688Z"
        },
        "papermill": {
          "duration": 0.046678,
          "end_time": "2022-03-07T10:13:09.727580",
          "exception": false,
          "start_time": "2022-03-07T10:13:09.680902",
          "status": "completed"
        },
        "tags": [],
        "colab": {
          "base_uri": "https://localhost:8080/"
        },
        "id": "d335d5c9",
        "outputId": "2ed0823e-fff7-475e-f9d1-19de5a7b0e2e"
      },
      "outputs": [
        {
          "output_type": "execute_result",
          "data": {
            "text/plain": [
              "['Pclass', 'Age', 'SibSp', 'Parch', 'Fare', 'relatives']"
            ]
          },
          "metadata": {},
          "execution_count": 82
        }
      ],
      "source": [
        "#Select numerical columns\n",
        "numerical_cols = [col for col in X.columns if X[col].dtype in ['int64', 'float64']]\n",
        "numerical_cols"
      ]
    },
    {
      "cell_type": "code",
      "source": [
        "sns.countplot(X['SibSp'])"
      ],
      "metadata": {
        "colab": {
          "base_uri": "https://localhost:8080/",
          "height": 360
        },
        "id": "-G5Ixad_YTI5",
        "outputId": "320771b3-c94c-43c6-fbd4-933d5049d633"
      },
      "id": "-G5Ixad_YTI5",
      "execution_count": null,
      "outputs": [
        {
          "output_type": "stream",
          "name": "stderr",
          "text": [
            "/usr/local/lib/python3.7/dist-packages/seaborn/_decorators.py:43: FutureWarning: Pass the following variable as a keyword arg: x. From version 0.12, the only valid positional argument will be `data`, and passing other arguments without an explicit keyword will result in an error or misinterpretation.\n",
            "  FutureWarning\n"
          ]
        },
        {
          "output_type": "execute_result",
          "data": {
            "text/plain": [
              "<matplotlib.axes._subplots.AxesSubplot at 0x7f5ce3d4ca10>"
            ]
          },
          "metadata": {},
          "execution_count": 83
        },
        {
          "output_type": "display_data",
          "data": {
            "image/png": "[encoded data removed]",
            "text/plain": [
              "<Figure size 432x288 with 1 Axes>"
            ]
          },
          "metadata": {}
        }
      ]
    },
    {
      "cell_type": "code",
      "source": [
        "sns.countplot(X['relatives'])"
      ],
      "metadata": {
        "colab": {
          "base_uri": "https://localhost:8080/",
          "height": 360
        },
        "id": "kxgdyHnuWa2L",
        "outputId": "4f2574da-0bb4-412c-de61-07d2a2e77413"
      },
      "id": "kxgdyHnuWa2L",
      "execution_count": null,
      "outputs": [
        {
          "output_type": "stream",
          "name": "stderr",
          "text": [
            "/usr/local/lib/python3.7/dist-packages/seaborn/_decorators.py:43: FutureWarning: Pass the following variable as a keyword arg: x. From version 0.12, the only valid positional argument will be `data`, and passing other arguments without an explicit keyword will result in an error or misinterpretation.\n",
            "  FutureWarning\n"
          ]
        },
        {
          "output_type": "execute_result",
          "data": {
            "text/plain": [
              "<matplotlib.axes._subplots.AxesSubplot at 0x7f5ce399f910>"
            ]
          },
          "metadata": {},
          "execution_count": 84
        },
        {
          "output_type": "display_data",
          "data": {
            "image/png": "[encoded data removed]",
            "text/plain": [
              "<Figure size 432x288 with 1 Axes>"
            ]
          },
          "metadata": {}
        }
      ]
    },
    {
      "cell_type": "code",
      "source": [
        "X.info()"
      ],
      "metadata": {
        "colab": {
          "base_uri": "https://localhost:8080/"
        },
        "id": "8BJvX1QLabDd",
        "outputId": "723e2400-8564-48d2-a544-40974ecf6297"
      },
      "id": "8BJvX1QLabDd",
      "execution_count": null,
      "outputs": [
        {
          "output_type": "stream",
          "name": "stdout",
          "text": [
            "<class 'pandas.core.frame.DataFrame'>\n",
            "Int64Index: 889 entries, 1 to 891\n",
            "Data columns (total 9 columns):\n",
            " #   Column       Non-Null Count  Dtype  \n",
            "---  ------       --------------  -----  \n",
            " 0   Pclass       889 non-null    int64  \n",
            " 1   Sex          889 non-null    object \n",
            " 2   Age          712 non-null    float64\n",
            " 3   SibSp        889 non-null    int64  \n",
            " 4   Parch        889 non-null    int64  \n",
            " 5   Fare         889 non-null    float64\n",
            " 6   Embarked     889 non-null    object \n",
            " 7   CabinLetter  889 non-null    object \n",
            " 8   relatives    889 non-null    int64  \n",
            "dtypes: float64(2), int64(4), object(3)\n",
            "memory usage: 101.7+ KB\n"
          ]
        }
      ]
    },
    {
      "cell_type": "code",
      "source": [
        "X.isnull().sum()"
      ],
      "metadata": {
        "colab": {
          "base_uri": "https://localhost:8080/"
        },
        "id": "4OpgNeMzaeJc",
        "outputId": "2bb0cc42-84ef-4233-d1bc-d21e51e4b00e"
      },
      "id": "4OpgNeMzaeJc",
      "execution_count": null,
      "outputs": [
        {
          "output_type": "execute_result",
          "data": {
            "text/plain": [
              "Pclass           0\n",
              "Sex              0\n",
              "Age            177\n",
              "SibSp            0\n",
              "Parch            0\n",
              "Fare             0\n",
              "Embarked         0\n",
              "CabinLetter      0\n",
              "relatives        0\n",
              "dtype: int64"
            ]
          },
          "metadata": {},
          "execution_count": 86
        }
      ]
    },
    {
      "cell_type": "markdown",
      "id": "5ff807e1",
      "metadata": {
        "papermill": {
          "duration": 0.037988,
          "end_time": "2022-03-07T10:13:09.804296",
          "exception": false,
          "start_time": "2022-03-07T10:13:09.766308",
          "status": "completed"
        },
        "tags": [],
        "id": "5ff807e1"
      },
      "source": [
        "# **Preprocessing Pipeline**"
      ]
    },
    {
      "cell_type": "code",
      "execution_count": null,
      "id": "36a7fa54",
      "metadata": {
        "execution": {
          "iopub.execute_input": "2022-03-07T10:13:09.884077Z",
          "iopub.status.busy": "2022-03-07T10:13:09.883539Z",
          "iopub.status.idle": "2022-03-07T10:13:09.886815Z",
          "shell.execute_reply": "2022-03-07T10:13:09.887341Z",
          "shell.execute_reply.started": "2022-03-07T10:06:02.949712Z"
        },
        "papermill": {
          "duration": 0.044554,
          "end_time": "2022-03-07T10:13:09.887488",
          "exception": false,
          "start_time": "2022-03-07T10:13:09.842934",
          "status": "completed"
        },
        "tags": [],
        "id": "36a7fa54"
      },
      "outputs": [],
      "source": [
        "#Preprocessing for numerical data(Age in the train)\n",
        "numerical_transformer = Pipeline(steps=[\n",
        "    ('imputer', SimpleImputer(strategy='mean')),\n",
        "    ('scaler', StandardScaler())\n",
        "])"
      ]
    },
    {
      "cell_type": "code",
      "source": [
        "X['CabinLetter'].value_counts()"
      ],
      "metadata": {
        "colab": {
          "base_uri": "https://localhost:8080/"
        },
        "id": "SlqzSdBtam5S",
        "outputId": "665e90d6-b822-48b1-f305-f168b0105d50"
      },
      "id": "SlqzSdBtam5S",
      "execution_count": null,
      "outputs": [
        {
          "output_type": "execute_result",
          "data": {
            "text/plain": [
              "Unknown    687\n",
              "C           59\n",
              "B           45\n",
              "D           33\n",
              "E           32\n",
              "A           15\n",
              "F           13\n",
              "G            4\n",
              "T            1\n",
              "Name: CabinLetter, dtype: int64"
            ]
          },
          "metadata": {},
          "execution_count": 89
        }
      ]
    },
    {
      "cell_type": "code",
      "execution_count": null,
      "id": "60249fe1",
      "metadata": {
        "execution": {
          "iopub.execute_input": "2022-03-07T10:13:09.968519Z",
          "iopub.status.busy": "2022-03-07T10:13:09.967915Z",
          "iopub.status.idle": "2022-03-07T10:13:09.971378Z",
          "shell.execute_reply": "2022-03-07T10:13:09.971867Z",
          "shell.execute_reply.started": "2022-03-07T10:06:03.124367Z"
        },
        "papermill": {
          "duration": 0.045513,
          "end_time": "2022-03-07T10:13:09.972024",
          "exception": false,
          "start_time": "2022-03-07T10:13:09.926511",
          "status": "completed"
        },
        "tags": [],
        "id": "60249fe1"
      },
      "outputs": [],
      "source": [
        "#Preprocessing for categorical data\n",
        "categorical_transformer = Pipeline(steps=[\n",
        "    ('imputer', SimpleImputer(strategy='most_frequent')),\n",
        "    ('onehot', OneHotEncoder(handle_unknown='ignore'))  #handle unknown wont give an error if it gets a new value in the test set for the categorical values\n",
        "])"
      ]
    },
    {
      "cell_type": "code",
      "execution_count": null,
      "id": "60d935c6",
      "metadata": {
        "execution": {
          "iopub.execute_input": "2022-03-07T10:13:10.051518Z",
          "iopub.status.busy": "2022-03-07T10:13:10.050969Z",
          "iopub.status.idle": "2022-03-07T10:13:10.065209Z",
          "shell.execute_reply": "2022-03-07T10:13:10.065735Z",
          "shell.execute_reply.started": "2022-03-07T10:06:05.439724Z"
        },
        "papermill": {
          "duration": 0.055515,
          "end_time": "2022-03-07T10:13:10.065884",
          "exception": false,
          "start_time": "2022-03-07T10:13:10.010369",
          "status": "completed"
        },
        "tags": [],
        "colab": {
          "base_uri": "https://localhost:8080/"
        },
        "id": "60d935c6",
        "outputId": "c501c431-385c-48d7-ee38-39b699054815"
      },
      "outputs": [
        {
          "output_type": "execute_result",
          "data": {
            "text/plain": [
              "ColumnTransformer(transformers=[('num',\n",
              "                                 Pipeline(steps=[('imputer', SimpleImputer()),\n",
              "                                                 ('scaler', StandardScaler())]),\n",
              "                                 ['Pclass', 'Age', 'SibSp', 'Parch', 'Fare',\n",
              "                                  'relatives']),\n",
              "                                ('cat',\n",
              "                                 Pipeline(steps=[('imputer',\n",
              "                                                  SimpleImputer(strategy='most_frequent')),\n",
              "                                                 ('onehot',\n",
              "                                                  OneHotEncoder(handle_unknown='ignore'))]),\n",
              "                                 ['Sex', 'Embarked', 'CabinLetter'])])"
            ]
          },
          "metadata": {},
          "execution_count": 91
        }
      ],
      "source": [
        "preprocessor = ColumnTransformer(\n",
        "    transformers=[\n",
        "        ('num', numerical_transformer, numerical_cols),\n",
        "        ('cat', categorical_transformer, categorical_cols)\n",
        "    ])\n",
        "preprocessor"
      ]
    },
    {
      "cell_type": "markdown",
      "id": "87fcf0e3",
      "metadata": {
        "papermill": {
          "duration": 0.038458,
          "end_time": "2022-03-07T10:13:10.143112",
          "exception": false,
          "start_time": "2022-03-07T10:13:10.104654",
          "status": "completed"
        },
        "tags": [],
        "id": "87fcf0e3"
      },
      "source": [
        "# Random Forest Pipeline"
      ]
    },
    {
      "cell_type": "code",
      "execution_count": null,
      "id": "684e84ce",
      "metadata": {
        "execution": {
          "iopub.execute_input": "2022-03-07T10:13:10.226567Z",
          "iopub.status.busy": "2022-03-07T10:13:10.225971Z",
          "iopub.status.idle": "2022-03-07T10:13:11.258279Z",
          "shell.execute_reply": "2022-03-07T10:13:11.258707Z",
          "shell.execute_reply.started": "2022-03-07T10:09:10.009702Z"
        },
        "papermill": {
          "duration": 1.076838,
          "end_time": "2022-03-07T10:13:11.258870",
          "exception": false,
          "start_time": "2022-03-07T10:13:10.182032",
          "status": "completed"
        },
        "tags": [],
        "colab": {
          "base_uri": "https://localhost:8080/"
        },
        "id": "684e84ce",
        "outputId": "8246ead7-e41a-447f-b021-7dc79e7af534"
      },
      "outputs": [
        {
          "output_type": "stream",
          "name": "stdout",
          "text": [
            "Random Forest Scores: [0.81460674 0.80898876 0.8258427  0.79775281 0.83050847]\n",
            "Random Forest: 0.8155398971624453\n"
          ]
        }
      ],
      "source": [
        "#Random Forest\n",
        "from sklearn.ensemble import RandomForestClassifier\n",
        "from sklearn.ensemble import RandomForestClassifier\n",
        "rfc = RandomForestClassifier(max_depth= 6, min_samples_leaf= 1, min_samples_split= 2, random_state=0)\n",
        "rfc_pipeline = Pipeline(steps=[('preprocessor', preprocessor),\n",
        "                                ('model', rfc)\n",
        "                              ])\n",
        "from sklearn.model_selection import cross_val_score\n",
        "scores = cross_val_score(rfc_pipeline, X, y, cv=5)\n",
        "print('Random Forest Scores:',scores)\n",
        "print('Random Forest:',scores.mean())\n"
      ]
    },
    {
      "cell_type": "markdown",
      "id": "4451296d",
      "metadata": {
        "papermill": {
          "duration": 0.038738,
          "end_time": "2022-03-07T10:13:11.336772",
          "exception": false,
          "start_time": "2022-03-07T10:13:11.298034",
          "status": "completed"
        },
        "tags": [],
        "id": "4451296d"
      },
      "source": [
        "# Logistic Regression Pipeline"
      ]
    },
    {
      "cell_type": "code",
      "execution_count": null,
      "id": "89b4a52c",
      "metadata": {
        "execution": {
          "iopub.execute_input": "2022-03-07T10:13:11.421125Z",
          "iopub.status.busy": "2022-03-07T10:13:11.420525Z",
          "iopub.status.idle": "2022-03-07T10:13:11.518526Z",
          "shell.execute_reply": "2022-03-07T10:13:11.519000Z",
          "shell.execute_reply.started": "2022-03-07T10:09:59.554235Z"
        },
        "papermill": {
          "duration": 0.143096,
          "end_time": "2022-03-07T10:13:11.519171",
          "exception": false,
          "start_time": "2022-03-07T10:13:11.376075",
          "status": "completed"
        },
        "tags": [],
        "colab": {
          "base_uri": "https://localhost:8080/"
        },
        "id": "89b4a52c",
        "outputId": "094caa3c-d464-4a18-9333-0bf09015eb07"
      },
      "outputs": [
        {
          "output_type": "stream",
          "name": "stdout",
          "text": [
            "Logistic Regression Scores: [0.78651685 0.78651685 0.79213483 0.76966292 0.83050847]\n",
            "Logistic Regression: 0.7930679870500857\n"
          ]
        }
      ],
      "source": [
        "#Logistic Regression\n",
        "from sklearn.linear_model import LogisticRegression\n",
        "log_reg_classifier=LogisticRegression(C= 0.1, penalty= 'l2', solver='liblinear',random_state=0)\n",
        "log_reg_pipeline = Pipeline(steps=[('preprocessor', preprocessor),\n",
        "                                   ('model', log_reg_classifier)\n",
        "                                  ])\n",
        "from sklearn.model_selection import cross_val_score\n",
        "scores = cross_val_score(log_reg_pipeline, X, y, cv=5)\n",
        "print('Logistic Regression Scores:',scores)\n",
        "print('Logistic Regression:',scores.mean())"
      ]
    },
    {
      "cell_type": "markdown",
      "id": "ec042fd8",
      "metadata": {
        "papermill": {
          "duration": 0.038967,
          "end_time": "2022-03-07T10:13:11.597780",
          "exception": false,
          "start_time": "2022-03-07T10:13:11.558813",
          "status": "completed"
        },
        "tags": [],
        "id": "ec042fd8"
      },
      "source": [
        "# XGBoost Pipeline"
      ]
    },
    {
      "cell_type": "code",
      "execution_count": null,
      "id": "bae973a6",
      "metadata": {
        "execution": {
          "iopub.execute_input": "2022-03-07T10:13:11.679733Z",
          "iopub.status.busy": "2022-03-07T10:13:11.679190Z",
          "iopub.status.idle": "2022-03-07T10:13:13.958275Z",
          "shell.execute_reply": "2022-03-07T10:13:13.958753Z",
          "shell.execute_reply.started": "2022-03-07T10:10:59.767231Z"
        },
        "papermill": {
          "duration": 2.321882,
          "end_time": "2022-03-07T10:13:13.958913",
          "exception": false,
          "start_time": "2022-03-07T10:13:11.637031",
          "status": "completed"
        },
        "tags": [],
        "colab": {
          "base_uri": "https://localhost:8080/"
        },
        "id": "bae973a6",
        "outputId": "d3569656-8d57-43c2-9cf8-10362593e7ae"
      },
      "outputs": [
        {
          "output_type": "stream",
          "name": "stdout",
          "text": [
            "XGB Classifier Scores: [0.79775281 0.81460674 0.87078652 0.82022472 0.86440678]\n",
            "XGB Classifier: 0.8335555132355742\n"
          ]
        }
      ],
      "source": [
        "#XGBoost\n",
        "from xgboost import XGBClassifier\n",
        "from xgboost import XGBClassifier\n",
        "xgb = XGBClassifier(learning_rate= 0.1, max_depth= 5, min_child_weight= 1,\n",
        "                    n_estimators= 100, subsample= 1.0, use_label_encoder=False,\n",
        "                    verbosity=0, random_state=0)\n",
        "xgb_pipeline= Pipeline(steps=[('preprocessor', preprocessor),\n",
        "                              ('model', xgb)\n",
        "                             ])\n",
        "scores = cross_val_score(xgb_pipeline, X, y, cv=5)\n",
        "print('XGB Classifier Scores:',scores)\n",
        "print('XGB Classifier:',scores.mean())"
      ]
    },
    {
      "cell_type": "markdown",
      "id": "7458883a",
      "metadata": {
        "papermill": {
          "duration": 0.039179,
          "end_time": "2022-03-07T10:13:14.037726",
          "exception": false,
          "start_time": "2022-03-07T10:13:13.998547",
          "status": "completed"
        },
        "tags": [],
        "id": "7458883a"
      },
      "source": [
        "# SVC Pipeline"
      ]
    },
    {
      "cell_type": "code",
      "execution_count": null,
      "id": "a3b6f74b",
      "metadata": {
        "execution": {
          "iopub.execute_input": "2022-03-07T10:13:14.119203Z",
          "iopub.status.busy": "2022-03-07T10:13:14.118539Z",
          "iopub.status.idle": "2022-03-07T10:13:14.324020Z",
          "shell.execute_reply": "2022-03-07T10:13:14.324493Z",
          "shell.execute_reply.started": "2022-03-07T10:11:34.556143Z"
        },
        "papermill": {
          "duration": 0.247561,
          "end_time": "2022-03-07T10:13:14.324667",
          "exception": false,
          "start_time": "2022-03-07T10:13:14.077106",
          "status": "completed"
        },
        "tags": [],
        "colab": {
          "base_uri": "https://localhost:8080/"
        },
        "id": "a3b6f74b",
        "outputId": "0d9b9252-02ce-439d-9b35-bff922bdadf7"
      },
      "outputs": [
        {
          "output_type": "stream",
          "name": "stdout",
          "text": [
            "SVC Scores: [0.8258427  0.79775281 0.82022472 0.80337079 0.8700565 ]\n",
            "SVC: 0.8234495016822192\n"
          ]
        }
      ],
      "source": [
        "#SVC\n",
        "from sklearn.svm import SVC\n",
        "svc = SVC(C= 3, kernel= 'rbf', random_state=0)\n",
        "svc_pipeline = Pipeline(steps=[('preprocessor', preprocessor),\n",
        "                               ('model', svc)\n",
        "                              ])\n",
        "from sklearn.model_selection import cross_val_score\n",
        "scores = cross_val_score(svc_pipeline, X, y, cv=5)\n",
        "print('SVC Scores:',scores)\n",
        "print('SVC:',scores.mean())"
      ]
    },
    {
      "cell_type": "markdown",
      "id": "eb16e7ff",
      "metadata": {
        "papermill": {
          "duration": 0.056232,
          "end_time": "2022-03-07T10:13:15.905830",
          "exception": false,
          "start_time": "2022-03-07T10:13:15.849598",
          "status": "completed"
        },
        "tags": [],
        "id": "eb16e7ff"
      },
      "source": [
        "# **Voting Classifier**"
      ]
    },
    {
      "cell_type": "code",
      "execution_count": null,
      "id": "25eabee7",
      "metadata": {
        "execution": {
          "iopub.execute_input": "2022-03-07T10:13:15.994527Z",
          "iopub.status.busy": "2022-03-07T10:13:15.993892Z",
          "iopub.status.idle": "2022-03-07T10:13:20.916464Z",
          "shell.execute_reply": "2022-03-07T10:13:20.917598Z",
          "shell.execute_reply.started": "2022-03-07T10:12:06.451834Z"
        },
        "papermill": {
          "duration": 4.971474,
          "end_time": "2022-03-07T10:13:20.917868",
          "exception": false,
          "start_time": "2022-03-07T10:13:15.946394",
          "status": "completed"
        },
        "tags": [],
        "colab": {
          "base_uri": "https://localhost:8080/"
        },
        "id": "25eabee7",
        "outputId": "82ef6885-2a42-45b1-b088-53bd7f188446"
      },
      "outputs": [
        {
          "output_type": "stream",
          "name": "stdout",
          "text": [
            "Voting Classifier Scores: [0.83707865 0.79775281 0.83707865 0.79775281 0.84745763]\n",
            "Voting: 0.8234241096933917\n"
          ]
        }
      ],
      "source": [
        "from sklearn.ensemble import VotingClassifier\n",
        "\n",
        "voting = VotingClassifier(estimators=[\n",
        "       ('rfc', rfc), ('log', log_reg_classifier), ('svc', svc), ('xgb',xgb)],\n",
        "        voting='hard')\n",
        "voting_pipeline = Pipeline(steps=[('preprocessor', preprocessor),\n",
        "                                  ('model', voting)\n",
        "                                 ])\n",
        "from sklearn.model_selection import cross_val_score\n",
        "scores = cross_val_score(voting_pipeline, X, y, cv=5)\n",
        "print('Voting Classifier Scores:',scores)\n",
        "print('Voting:',scores.mean())\n"
      ]
    },
    {
      "cell_type": "code",
      "source": [
        "from sklearn.ensemble import VotingClassifier\n",
        "svc1 = SVC(C= 3, kernel= 'rbf', random_state=0, probability=True)\n",
        "voting = VotingClassifier(estimators=[\n",
        "       ('rfc', rfc), ('log', log_reg_classifier), ('svc', svc1), ('xgb',xgb)],\n",
        "        voting='soft')\n",
        "voting_pipeline = Pipeline(steps=[('preprocessor', preprocessor),\n",
        "                                  ('model', voting)\n",
        "                                 ])\n",
        "from sklearn.model_selection import cross_val_score\n",
        "scores = cross_val_score(voting_pipeline, X, y, cv=5)\n",
        "print('Voting Classifier Scores:',scores)\n",
        "print('Voting:',scores.mean())\n"
      ],
      "metadata": {
        "colab": {
          "base_uri": "https://localhost:8080/"
        },
        "id": "pwQlts26criF",
        "outputId": "d7dcc302-6f8f-44aa-b194-f3f087c0fd86"
      },
      "id": "pwQlts26criF",
      "execution_count": null,
      "outputs": [
        {
          "output_type": "stream",
          "name": "stdout",
          "text": [
            "Voting Classifier Scores: [0.8258427  0.81460674 0.82022472 0.80898876 0.8700565 ]\n",
            "Voting: 0.8279438837046911\n"
          ]
        }
      ]
    },
    {
      "cell_type": "code",
      "source": [
        ""
      ],
      "metadata": {
        "id": "CWaSAVVOVlcJ"
      },
      "id": "CWaSAVVOVlcJ",
      "execution_count": null,
      "outputs": []
    },
    {
      "cell_type": "markdown",
      "id": "bdd63c37",
      "metadata": {
        "papermill": {
          "duration": 0.0505,
          "end_time": "2022-03-07T10:13:21.050479",
          "exception": false,
          "start_time": "2022-03-07T10:13:20.999979",
          "status": "completed"
        },
        "tags": [],
        "id": "bdd63c37"
      },
      "source": [
        "# Example on the training data"
      ]
    },
    {
      "cell_type": "code",
      "execution_count": null,
      "id": "9e1c5c50",
      "metadata": {
        "execution": {
          "iopub.execute_input": "2022-03-07T10:13:21.137752Z",
          "iopub.status.busy": "2022-03-07T10:13:21.137173Z",
          "iopub.status.idle": "2022-03-07T10:13:22.178427Z",
          "shell.execute_reply": "2022-03-07T10:13:22.179236Z",
          "shell.execute_reply.started": "2022-03-07T10:12:19.758723Z"
        },
        "papermill": {
          "duration": 1.087888,
          "end_time": "2022-03-07T10:13:22.179515",
          "exception": false,
          "start_time": "2022-03-07T10:13:21.091627",
          "status": "completed"
        },
        "tags": [],
        "id": "9e1c5c50"
      },
      "outputs": [],
      "source": [
        "from sklearn.model_selection import train_test_split\n",
        "X_train, X_valid, y_train, y_valid =train_test_split(X, y, test_size=0.2, random_state=42)\n",
        "\n",
        "voting_pipeline.fit_transform(X_train, y_train)\n",
        "y_pred= voting_pipeline.predict(X_valid)\n"
      ]
    },
    {
      "cell_type": "code",
      "execution_count": null,
      "id": "cc87dcde",
      "metadata": {
        "execution": {
          "iopub.execute_input": "2022-03-07T10:13:22.305778Z",
          "iopub.status.busy": "2022-03-07T10:13:22.305204Z",
          "iopub.status.idle": "2022-03-07T10:13:22.452868Z",
          "shell.execute_reply": "2022-03-07T10:13:22.453545Z",
          "shell.execute_reply.started": "2022-03-07T10:12:20.750826Z"
        },
        "papermill": {
          "duration": 0.195821,
          "end_time": "2022-03-07T10:13:22.453758",
          "exception": false,
          "start_time": "2022-03-07T10:13:22.257937",
          "status": "completed"
        },
        "tags": [],
        "colab": {
          "base_uri": "https://localhost:8080/",
          "height": 484
        },
        "id": "cc87dcde",
        "outputId": "b3bc2815-1dbf-46b4-c3e2-f961e857cb47"
      },
      "outputs": [
        {
          "output_type": "stream",
          "name": "stdout",
          "text": [
            "Voting Classifier accuracy score: 82.02%\n",
            "              precision    recall  f1-score   support\n",
            "\n",
            "           0       0.84      0.87      0.86       109\n",
            "           1       0.78      0.74      0.76        69\n",
            "\n",
            "    accuracy                           0.82       178\n",
            "   macro avg       0.81      0.81      0.81       178\n",
            "weighted avg       0.82      0.82      0.82       178\n",
            "\n"
          ]
        },
        {
          "output_type": "display_data",
          "data": {
            "image/png": "[encoded data removed]",
            "text/plain": [
              "<Figure size 432x288 with 1 Axes>"
            ]
          },
          "metadata": {}
        }
      ],
      "source": [
        "from sklearn.metrics import confusion_matrix, accuracy_score, classification_report\n",
        "cm=confusion_matrix(y_valid, y_pred)\n",
        "print('Voting Classifier accuracy score:', '{:.2%}'.format(accuracy_score(y_valid, y_pred)))\n",
        "print(classification_report(y_valid, y_pred))\n",
        "sns.heatmap(cm, annot=True, fmt='g', cbar=False)\n",
        "plt.xlabel('Predicted Values')\n",
        "plt.ylabel('Actual Values')\n",
        "plt.title('Voting Classifier Confusion Matrix')\n",
        "plt.show()"
      ]
    },
    {
      "cell_type": "markdown",
      "id": "2cfe0787",
      "metadata": {
        "papermill": {
          "duration": 0.041512,
          "end_time": "2022-03-07T10:13:22.537984",
          "exception": false,
          "start_time": "2022-03-07T10:13:22.496472",
          "status": "completed"
        },
        "tags": [],
        "id": "2cfe0787"
      },
      "source": [
        "Note: Accuracy can vary depending on the random split"
      ]
    },
    {
      "cell_type": "code",
      "execution_count": null,
      "id": "d269a332",
      "metadata": {
        "execution": {
          "iopub.execute_input": "2022-03-07T10:13:22.632069Z",
          "iopub.status.busy": "2022-03-07T10:13:22.631449Z",
          "iopub.status.idle": "2022-03-07T10:13:23.519393Z",
          "shell.execute_reply": "2022-03-07T10:13:23.520321Z",
          "shell.execute_reply.started": "2022-03-07T10:12:20.976911Z"
        },
        "papermill": {
          "duration": 0.94096,
          "end_time": "2022-03-07T10:13:23.520585",
          "exception": false,
          "start_time": "2022-03-07T10:13:22.579625",
          "status": "completed"
        },
        "tags": [],
        "id": "d269a332"
      },
      "outputs": [],
      "source": [
        "#Training the final model\n",
        "voting_pipeline.fit(X,y)\n",
        "\n",
        "#Test data\n",
        "test_data=pd.read_csv('/content/test.csv', index_col='PassengerId')\n",
        "test_data_clean=test_data.drop(['Name','Ticket'], axis=1)\n",
        "test_data_clean['Cabin Letter'] = test_data_clean['Cabin'].str.extract('(\\w)')\n",
        "test_data_clean['Cabin Letter'].fillna('Unknown', inplace=True)\n",
        "test_data_clean.drop(['Cabin'], axis=1, inplace=True)\n",
        "test_data_clean['relatives']=test_data_clean['SibSp']+test_data_clean['Parch']\n",
        "\n",
        "predicted=voting_pipeline.predict(test_data_clean)\n",
        "ids=test_data.index\n",
        "pred_df= pd.DataFrame({'PassengerId': ids,\n",
        "                       'Survived': predicted})\n",
        "pred_df.to_csv('submission.csv', index=False)"
      ]
    },
    {
      "cell_type": "code",
      "execution_count": null,
      "id": "35a8d762",
      "metadata": {
        "papermill": {
          "duration": 0.041807,
          "end_time": "2022-03-07T10:13:23.641945",
          "exception": false,
          "start_time": "2022-03-07T10:13:23.600138",
          "status": "completed"
        },
        "tags": [],
        "colab": {
          "base_uri": "https://localhost:8080/"
        },
        "id": "35a8d762",
        "outputId": "b7393d35-9c61-453a-8965-8be27f146645"
      },
      "outputs": [
        {
          "output_type": "stream",
          "name": "stdout",
          "text": [
            "0.8202247191011236\n"
          ]
        }
      ],
      "source": [
        "voting_pipeline.fit(X_train, y_train)\n",
        "y_predict = voting_pipeline.predict(X_valid)\n",
        "print(accuracy_score(y_valid, y_predict))"
      ]
    },
    {
      "cell_type": "markdown",
      "source": [
        "#**Pickle**"
      ],
      "metadata": {
        "id": "iIGxJrUcVoO8"
      },
      "id": "iIGxJrUcVoO8"
    },
    {
      "cell_type": "code",
      "source": [
        "import pickle"
      ],
      "metadata": {
        "id": "B3p6IzcsVnpK"
      },
      "id": "B3p6IzcsVnpK",
      "execution_count": null,
      "outputs": []
    },
    {
      "cell_type": "code",
      "source": [
        "# save the model \n",
        "file = \"titanicModel.pkl\"\n",
        "with open(file, 'wb') as f:\n",
        "  pickle.dump(voting_pipeline, f)"
      ],
      "metadata": {
        "id": "xQgg3yC7Vvk3"
      },
      "id": "xQgg3yC7Vvk3",
      "execution_count": null,
      "outputs": []
    },
    {
      "cell_type": "code",
      "source": [
        "# open the model \n",
        "file = '/content/titanicModel.pkl'\n",
        "with open(file, 'rb') as f:\n",
        "  model = pickle.load(f)"
      ],
      "metadata": {
        "id": "54z-V8sCfIFv"
      },
      "id": "54z-V8sCfIFv",
      "execution_count": null,
      "outputs": []
    },
    {
      "cell_type": "code",
      "source": [
        "y_mpredict = model.predict(X_valid)"
      ],
      "metadata": {
        "id": "fqVZChiffbcj"
      },
      "id": "fqVZChiffbcj",
      "execution_count": null,
      "outputs": []
    },
    {
      "cell_type": "code",
      "source": [
        "accuracy_score(y_valid, y_mpredict)"
      ],
      "metadata": {
        "colab": {
          "base_uri": "https://localhost:8080/"
        },
        "id": "_0gGtKV5fjR8",
        "outputId": "7be0f7d8-0c54-4e9f-ecc9-969f9446895e"
      },
      "id": "_0gGtKV5fjR8",
      "execution_count": null,
      "outputs": [
        {
          "output_type": "execute_result",
          "data": {
            "text/plain": [
              "0.8202247191011236"
            ]
          },
          "metadata": {},
          "execution_count": 110
        }
      ]
    },
    {
      "cell_type": "markdown",
      "source": [
        "#**Streamlit**"
      ],
      "metadata": {
        "id": "zNCKl5OGfush"
      },
      "id": "zNCKl5OGfush"
    },
    {
      "cell_type": "code",
      "source": [
        "!pip install streamlit"
      ],
      "metadata": {
        "colab": {
          "base_uri": "https://localhost:8080/"
        },
        "id": "fObfyvEyf6dT",
        "outputId": "4ab2d3b2-c9d6-4a87-c273-688ff9c72735"
      },
      "id": "fObfyvEyf6dT",
      "execution_count": null,
      "outputs": [
        {
          "output_type": "stream",
          "name": "stdout",
          "text": [
            "Requirement already satisfied: streamlit in /usr/local/lib/python3.7/dist-packages (1.7.0)\n",
            "Requirement already satisfied: numpy in /usr/local/lib/python3.7/dist-packages (from streamlit) (1.21.5)\n",
            "Requirement already satisfied: python-dateutil in /usr/local/lib/python3.7/dist-packages (from streamlit) (2.8.2)\n",
            "Requirement already satisfied: astor in /usr/local/lib/python3.7/dist-packages (from streamlit) (0.8.1)\n",
            "Requirement already satisfied: requests in /usr/local/lib/python3.7/dist-packages (from streamlit) (2.23.0)\n",
            "Requirement already satisfied: click>=7.0 in /usr/local/lib/python3.7/dist-packages (from streamlit) (7.1.2)\n",
            "Requirement already satisfied: protobuf!=3.11,>=3.6.0 in /usr/local/lib/python3.7/dist-packages (from streamlit) (3.17.3)\n",
            "Requirement already satisfied: semver in /usr/local/lib/python3.7/dist-packages (from streamlit) (2.13.0)\n",
            "Requirement already satisfied: pydeck>=0.1.dev5 in /usr/local/lib/python3.7/dist-packages (from streamlit) (0.7.1)\n",
            "Requirement already satisfied: toml in /usr/local/lib/python3.7/dist-packages (from streamlit) (0.10.2)\n",
            "Requirement already satisfied: cachetools>=4.0 in /usr/local/lib/python3.7/dist-packages (from streamlit) (4.2.4)\n",
            "Requirement already satisfied: tornado>=5.0 in /usr/local/lib/python3.7/dist-packages (from streamlit) (5.1.1)\n",
            "Requirement already satisfied: typing-extensions in /usr/local/lib/python3.7/dist-packages (from streamlit) (3.10.0.2)\n",
            "Requirement already satisfied: pympler>=0.9 in /usr/local/lib/python3.7/dist-packages (from streamlit) (1.0.1)\n",
            "Requirement already satisfied: gitpython!=3.1.19 in /usr/local/lib/python3.7/dist-packages (from streamlit) (3.1.27)\n",
            "Requirement already satisfied: packaging in /usr/local/lib/python3.7/dist-packages (from streamlit) (21.3)\n",
            "Requirement already satisfied: base58 in /usr/local/lib/python3.7/dist-packages (from streamlit) (2.1.1)\n",
            "Requirement already satisfied: altair>=3.2.0 in /usr/local/lib/python3.7/dist-packages (from streamlit) (4.2.0)\n",
            "Requirement already satisfied: pandas>=0.21.0 in /usr/local/lib/python3.7/dist-packages (from streamlit) (1.3.5)\n",
            "Requirement already satisfied: validators in /usr/local/lib/python3.7/dist-packages (from streamlit) (0.18.2)\n",
            "Requirement already satisfied: attrs in /usr/local/lib/python3.7/dist-packages (from streamlit) (21.4.0)\n",
            "Requirement already satisfied: tzlocal in /usr/local/lib/python3.7/dist-packages (from streamlit) (1.5.1)\n",
            "Requirement already satisfied: pyarrow in /usr/local/lib/python3.7/dist-packages (from streamlit) (6.0.1)\n",
            "Requirement already satisfied: importlib-metadata>=1.4 in /usr/local/lib/python3.7/dist-packages (from streamlit) (4.11.2)\n",
            "Requirement already satisfied: watchdog in /usr/local/lib/python3.7/dist-packages (from streamlit) (2.1.6)\n",
            "Requirement already satisfied: blinker in /usr/local/lib/python3.7/dist-packages (from streamlit) (1.4)\n",
            "Requirement already satisfied: pillow>=6.2.0 in /usr/local/lib/python3.7/dist-packages (from streamlit) (7.1.2)\n",
            "Requirement already satisfied: entrypoints in /usr/local/lib/python3.7/dist-packages (from altair>=3.2.0->streamlit) (0.4)\n",
            "Requirement already satisfied: toolz in /usr/local/lib/python3.7/dist-packages (from altair>=3.2.0->streamlit) (0.11.2)\n",
            "Requirement already satisfied: jsonschema>=3.0 in /usr/local/lib/python3.7/dist-packages (from altair>=3.2.0->streamlit) (4.3.3)\n",
            "Requirement already satisfied: jinja2 in /usr/local/lib/python3.7/dist-packages (from altair>=3.2.0->streamlit) (2.11.3)\n",
            "Requirement already satisfied: gitdb<5,>=4.0.1 in /usr/local/lib/python3.7/dist-packages (from gitpython!=3.1.19->streamlit) (4.0.9)\n",
            "Requirement already satisfied: smmap<6,>=3.0.1 in /usr/local/lib/python3.7/dist-packages (from gitdb<5,>=4.0.1->gitpython!=3.1.19->streamlit) (5.0.0)\n",
            "Requirement already satisfied: zipp>=0.5 in /usr/local/lib/python3.7/dist-packages (from importlib-metadata>=1.4->streamlit) (3.7.0)\n",
            "Requirement already satisfied: pyrsistent!=0.17.0,!=0.17.1,!=0.17.2,>=0.14.0 in /usr/local/lib/python3.7/dist-packages (from jsonschema>=3.0->altair>=3.2.0->streamlit) (0.18.1)\n",
            "Requirement already satisfied: importlib-resources>=1.4.0 in /usr/local/lib/python3.7/dist-packages (from jsonschema>=3.0->altair>=3.2.0->streamlit) (5.4.0)\n",
            "Requirement already satisfied: pytz>=2017.3 in /usr/local/lib/python3.7/dist-packages (from pandas>=0.21.0->streamlit) (2018.9)\n",
            "Requirement already satisfied: six>=1.9 in /usr/local/lib/python3.7/dist-packages (from protobuf!=3.11,>=3.6.0->streamlit) (1.15.0)\n",
            "Requirement already satisfied: ipywidgets>=7.0.0 in /usr/local/lib/python3.7/dist-packages (from pydeck>=0.1.dev5->streamlit) (7.6.5)\n",
            "Requirement already satisfied: traitlets>=4.3.2 in /usr/local/lib/python3.7/dist-packages (from pydeck>=0.1.dev5->streamlit) (5.1.1)\n",
            "Requirement already satisfied: ipykernel>=5.1.2 in /usr/local/lib/python3.7/dist-packages (from pydeck>=0.1.dev5->streamlit) (6.9.1)\n",
            "Requirement already satisfied: ipython>=7.23.1 in /usr/local/lib/python3.7/dist-packages (from ipykernel>=5.1.2->pydeck>=0.1.dev5->streamlit) (7.32.0)\n",
            "Requirement already satisfied: matplotlib-inline<0.2.0,>=0.1.0 in /usr/local/lib/python3.7/dist-packages (from ipykernel>=5.1.2->pydeck>=0.1.dev5->streamlit) (0.1.3)\n",
            "Requirement already satisfied: nest-asyncio in /usr/local/lib/python3.7/dist-packages (from ipykernel>=5.1.2->pydeck>=0.1.dev5->streamlit) (1.5.4)\n",
            "Requirement already satisfied: debugpy<2.0,>=1.0.0 in /usr/local/lib/python3.7/dist-packages (from ipykernel>=5.1.2->pydeck>=0.1.dev5->streamlit) (1.0.0)\n",
            "Requirement already satisfied: jupyter-client<8.0 in /usr/local/lib/python3.7/dist-packages (from ipykernel>=5.1.2->pydeck>=0.1.dev5->streamlit) (5.3.5)\n",
            "Requirement already satisfied: pexpect>4.3 in /usr/local/lib/python3.7/dist-packages (from ipython>=7.23.1->ipykernel>=5.1.2->pydeck>=0.1.dev5->streamlit) (4.8.0)\n",
            "Requirement already satisfied: decorator in /usr/local/lib/python3.7/dist-packages (from ipython>=7.23.1->ipykernel>=5.1.2->pydeck>=0.1.dev5->streamlit) (4.4.2)\n",
            "Requirement already satisfied: setuptools>=18.5 in /usr/local/lib/python3.7/dist-packages (from ipython>=7.23.1->ipykernel>=5.1.2->pydeck>=0.1.dev5->streamlit) (57.4.0)\n",
            "Requirement already satisfied: prompt-toolkit!=3.0.0,!=3.0.1,<3.1.0,>=2.0.0 in /usr/local/lib/python3.7/dist-packages (from ipython>=7.23.1->ipykernel>=5.1.2->pydeck>=0.1.dev5->streamlit) (3.0.28)\n",
            "Requirement already satisfied: backcall in /usr/local/lib/python3.7/dist-packages (from ipython>=7.23.1->ipykernel>=5.1.2->pydeck>=0.1.dev5->streamlit) (0.2.0)\n",
            "Requirement already satisfied: pickleshare in /usr/local/lib/python3.7/dist-packages (from ipython>=7.23.1->ipykernel>=5.1.2->pydeck>=0.1.dev5->streamlit) (0.7.5)\n",
            "Requirement already satisfied: pygments in /usr/local/lib/python3.7/dist-packages (from ipython>=7.23.1->ipykernel>=5.1.2->pydeck>=0.1.dev5->streamlit) (2.6.1)\n",
            "Requirement already satisfied: jedi>=0.16 in /usr/local/lib/python3.7/dist-packages (from ipython>=7.23.1->ipykernel>=5.1.2->pydeck>=0.1.dev5->streamlit) (0.18.1)\n",
            "Requirement already satisfied: jupyterlab-widgets>=1.0.0 in /usr/local/lib/python3.7/dist-packages (from ipywidgets>=7.0.0->pydeck>=0.1.dev5->streamlit) (1.0.2)\n",
            "Requirement already satisfied: ipython-genutils~=0.2.0 in /usr/local/lib/python3.7/dist-packages (from ipywidgets>=7.0.0->pydeck>=0.1.dev5->streamlit) (0.2.0)\n",
            "Requirement already satisfied: widgetsnbextension~=3.5.0 in /usr/local/lib/python3.7/dist-packages (from ipywidgets>=7.0.0->pydeck>=0.1.dev5->streamlit) (3.5.2)\n",
            "Requirement already satisfied: nbformat>=4.2.0 in /usr/local/lib/python3.7/dist-packages (from ipywidgets>=7.0.0->pydeck>=0.1.dev5->streamlit) (5.1.3)\n",
            "Requirement already satisfied: parso<0.9.0,>=0.8.0 in /usr/local/lib/python3.7/dist-packages (from jedi>=0.16->ipython>=7.23.1->ipykernel>=5.1.2->pydeck>=0.1.dev5->streamlit) (0.8.3)\n",
            "Requirement already satisfied: MarkupSafe>=0.23 in /usr/local/lib/python3.7/dist-packages (from jinja2->altair>=3.2.0->streamlit) (2.0.1)\n",
            "Requirement already satisfied: pyzmq>=13 in /usr/local/lib/python3.7/dist-packages (from jupyter-client<8.0->ipykernel>=5.1.2->pydeck>=0.1.dev5->streamlit) (22.3.0)\n",
            "Requirement already satisfied: jupyter-core>=4.6.0 in /usr/local/lib/python3.7/dist-packages (from jupyter-client<8.0->ipykernel>=5.1.2->pydeck>=0.1.dev5->streamlit) (4.9.2)\n",
            "Requirement already satisfied: ptyprocess>=0.5 in /usr/local/lib/python3.7/dist-packages (from pexpect>4.3->ipython>=7.23.1->ipykernel>=5.1.2->pydeck>=0.1.dev5->streamlit) (0.7.0)\n",
            "Requirement already satisfied: wcwidth in /usr/local/lib/python3.7/dist-packages (from prompt-toolkit!=3.0.0,!=3.0.1,<3.1.0,>=2.0.0->ipython>=7.23.1->ipykernel>=5.1.2->pydeck>=0.1.dev5->streamlit) (0.2.5)\n",
            "Requirement already satisfied: notebook>=4.4.1 in /usr/local/lib/python3.7/dist-packages (from widgetsnbextension~=3.5.0->ipywidgets>=7.0.0->pydeck>=0.1.dev5->streamlit) (5.3.1)\n",
            "Requirement already satisfied: Send2Trash in /usr/local/lib/python3.7/dist-packages (from notebook>=4.4.1->widgetsnbextension~=3.5.0->ipywidgets>=7.0.0->pydeck>=0.1.dev5->streamlit) (1.8.0)\n",
            "Requirement already satisfied: terminado>=0.8.1 in /usr/local/lib/python3.7/dist-packages (from notebook>=4.4.1->widgetsnbextension~=3.5.0->ipywidgets>=7.0.0->pydeck>=0.1.dev5->streamlit) (0.13.1)\n",
            "Requirement already satisfied: nbconvert in /usr/local/lib/python3.7/dist-packages (from notebook>=4.4.1->widgetsnbextension~=3.5.0->ipywidgets>=7.0.0->pydeck>=0.1.dev5->streamlit) (5.6.1)\n",
            "Requirement already satisfied: mistune<2,>=0.8.1 in /usr/local/lib/python3.7/dist-packages (from nbconvert->notebook>=4.4.1->widgetsnbextension~=3.5.0->ipywidgets>=7.0.0->pydeck>=0.1.dev5->streamlit) (0.8.4)\n",
            "Requirement already satisfied: testpath in /usr/local/lib/python3.7/dist-packages (from nbconvert->notebook>=4.4.1->widgetsnbextension~=3.5.0->ipywidgets>=7.0.0->pydeck>=0.1.dev5->streamlit) (0.6.0)\n",
            "Requirement already satisfied: bleach in /usr/local/lib/python3.7/dist-packages (from nbconvert->notebook>=4.4.1->widgetsnbextension~=3.5.0->ipywidgets>=7.0.0->pydeck>=0.1.dev5->streamlit) (4.1.0)\n",
            "Requirement already satisfied: pandocfilters>=1.4.1 in /usr/local/lib/python3.7/dist-packages (from nbconvert->notebook>=4.4.1->widgetsnbextension~=3.5.0->ipywidgets>=7.0.0->pydeck>=0.1.dev5->streamlit) (1.5.0)\n",
            "Requirement already satisfied: defusedxml in /usr/local/lib/python3.7/dist-packages (from nbconvert->notebook>=4.4.1->widgetsnbextension~=3.5.0->ipywidgets>=7.0.0->pydeck>=0.1.dev5->streamlit) (0.7.1)\n",
            "Requirement already satisfied: webencodings in /usr/local/lib/python3.7/dist-packages (from bleach->nbconvert->notebook>=4.4.1->widgetsnbextension~=3.5.0->ipywidgets>=7.0.0->pydeck>=0.1.dev5->streamlit) (0.5.1)\n",
            "Requirement already satisfied: pyparsing!=3.0.5,>=2.0.2 in /usr/local/lib/python3.7/dist-packages (from packaging->streamlit) (3.0.7)\n",
            "Requirement already satisfied: urllib3!=1.25.0,!=1.25.1,<1.26,>=1.21.1 in /usr/local/lib/python3.7/dist-packages (from requests->streamlit) (1.24.3)\n",
            "Requirement already satisfied: chardet<4,>=3.0.2 in /usr/local/lib/python3.7/dist-packages (from requests->streamlit) (3.0.4)\n",
            "Requirement already satisfied: idna<3,>=2.5 in /usr/local/lib/python3.7/dist-packages (from requests->streamlit) (2.10)\n",
            "Requirement already satisfied: certifi>=2017.4.17 in /usr/local/lib/python3.7/dist-packages (from requests->streamlit) (2021.10.8)\n"
          ]
        }
      ]
    },
    {
      "cell_type": "code",
      "source": [
        "X.columns"
      ],
      "metadata": {
        "colab": {
          "base_uri": "https://localhost:8080/"
        },
        "id": "E7X7mQioZ8YT",
        "outputId": "406a6c3a-da5f-4efb-ffb9-1c03f2a9fea0"
      },
      "id": "E7X7mQioZ8YT",
      "execution_count": null,
      "outputs": [
        {
          "output_type": "execute_result",
          "data": {
            "text/plain": [
              "Index(['Pclass', 'Sex', 'Age', 'SibSp', 'Parch', 'Fare', 'Embarked',\n",
              "       'CabinLetter', 'relatives'],\n",
              "      dtype='object')"
            ]
          },
          "metadata": {},
          "execution_count": 105
        }
      ]
    },
    {
      "cell_type": "code",
      "source": [
        ""
      ],
      "metadata": {
        "id": "liTxeoZnQYJI"
      },
      "id": "liTxeoZnQYJI",
      "execution_count": null,
      "outputs": []
    },
    {
      "cell_type": "code",
      "source": [
        "X['relatives'].value_counts()"
      ],
      "metadata": {
        "colab": {
          "base_uri": "https://localhost:8080/"
        },
        "id": "cNbu_HxTQUPb",
        "outputId": "cdda8a08-816f-4e3c-d0c9-4fbd8a8c4c99"
      },
      "id": "cNbu_HxTQUPb",
      "execution_count": null,
      "outputs": [
        {
          "output_type": "execute_result",
          "data": {
            "text/plain": [
              "0     535\n",
              "1     161\n",
              "2     102\n",
              "3      29\n",
              "5      22\n",
              "4      15\n",
              "6      12\n",
              "10      7\n",
              "7       6\n",
              "Name: relatives, dtype: int64"
            ]
          },
          "metadata": {},
          "execution_count": 149
        }
      ]
    },
    {
      "cell_type": "code",
      "source": [
        ""
      ],
      "metadata": {
        "id": "huKjJZZiQULh"
      },
      "id": "huKjJZZiQULh",
      "execution_count": null,
      "outputs": []
    },
    {
      "cell_type": "code",
      "source": [
        "%%writefile app.py\n",
        "import streamlit as st\n",
        "import pandas as pd\n",
        "import pickle \n",
        "from PIL import Image\n",
        "\n",
        "model = pickle.load(open('titanicModel.pkl', 'rb'))\n",
        "\n",
        "def run():\n",
        "\n",
        "    img1 = Image.open('/content/img1.jpg')\n",
        "    st.image(img1)\n",
        "\n",
        "    st.title(\n",
        "      \"\"\"\n",
        "      Titanic - Machine Learning from Disaster\n",
        "      **Predicting survival on the Titanic and getting familiar with ML.**\n",
        "      \"\"\"\n",
        "    )\n",
        "\n",
        "    # Enter Name\n",
        "    name = st.text_input('Enter Name')\n",
        "   \n",
        "    # Pclass\n",
        "    Pclass = st.number_input(\"Ticket Class\", min_value=1, max_value=3, value=1)\n",
        "   \n",
        "    #Gender\n",
        "    sex = st.selectbox(\"Select Gender\", ('Male', 'Female'))\n",
        "\n",
        "    #Age\n",
        "    age = st.number_input(\"Enter Your Age\", min_value=1, max_value=80, value = 1)\n",
        "    #st.write(age)\n",
        "\n",
        "    #SibSp\n",
        "    SibSp = st.selectbox(\"Number of child\", (0, 1, 2, 3, 4, 5, 8))\n",
        "    st.write(SibSp)\n",
        "\n",
        "    #Parch\n",
        "    Parch = st.selectbox(\"Number of guardian\",(0, 1, 2, 3, 4, 5, 6))\n",
        "    # st.write(Parch)\n",
        "\n",
        "    #Fare\n",
        "    Fare = st.number_input(\"Ticket Price\", min_value=0.0, max_value=512.3292)\n",
        "    # st.write(Fare)\n",
        "\n",
        "    #Embarked\n",
        "    Embarked = st.selectbox(\"Port of Embarkation\", ('S', 'C', 'Q'))\n",
        "    # st.write(Embarked)\n",
        "\n",
        "    #CabinLetter\n",
        "    CabinLetter = st.selectbox(\"Choose Cabin Latter\", ('A', 'B', 'C', 'D', 'E', 'F', 'G', 'T', 'Unknown'))\n",
        "    # st.write(CabinLetter)\n",
        "\n",
        "    #relatives\n",
        "    relatives = st.selectbox(\"No. of relatives\", (0, 1, 2, 3, 4, 5, 6, 7, 10))\n",
        "    # st.write(relatives) \n",
        "\n",
        "    df = pd.DataFrame({'Pclass':Pclass, 'Sex':sex, 'Age':age, 'SibSp':SibSp, 'Parch':Parch, 'Fare':Fare,\n",
        "                        'Embarked':Embarked, 'CabinLetter':CabinLetter, 'relatives':relatives}, index=[0])\n",
        "\n",
        "    \n",
        "    # st.write(df)\n",
        "\n",
        "    if st.button('Check'):\n",
        "        prediction = model.predict(df)\n",
        "        lc = [str(i) for i in prediction]\n",
        "        ans = int(\"\".join(lc))\n",
        "        \n",
        "        if ans == 0:\n",
        "            st.error(\n",
        "                \"Sorry! Rest in Peace\"\n",
        "            )\n",
        "        else:\n",
        "            st.success(\n",
        "                \"congrats you are safe!\"\n",
        "            )\n",
        "\n",
        "\n",
        "\n",
        "\n",
        "  \n",
        "\n",
        "\n",
        "run()"
      ],
      "metadata": {
        "colab": {
          "base_uri": "https://localhost:8080/"
        },
        "id": "jbsqn-9xfuHH",
        "outputId": "7274bb1c-ecc3-490e-8fdd-4a79d8e06560"
      },
      "id": "jbsqn-9xfuHH",
      "execution_count": null,
      "outputs": [
        {
          "output_type": "stream",
          "name": "stdout",
          "text": [
            "Overwriting app.py\n"
          ]
        }
      ]
    },
    {
      "cell_type": "code",
      "source": [
        "!streamlit run app.py &>/dev/null &"
      ],
      "metadata": {
        "id": "dvqj9LkyfuEI"
      },
      "id": "dvqj9LkyfuEI",
      "execution_count": null,
      "outputs": []
    },
    {
      "cell_type": "markdown",
      "source": [
        ""
      ],
      "metadata": {
        "id": "ScMXfdVJoFGZ"
      },
      "id": "ScMXfdVJoFGZ"
    },
    {
      "cell_type": "code",
      "source": [
        "!nohup npx localtunnel --port 8502 &"
      ],
      "metadata": {
        "id": "n7Jvb4VPkqW0",
        "colab": {
          "base_uri": "https://localhost:8080/"
        },
        "outputId": "532fbabd-2436-4d3a-96bc-57422af38ab8"
      },
      "id": "n7Jvb4VPkqW0",
      "execution_count": null,
      "outputs": [
        {
          "output_type": "stream",
          "name": "stdout",
          "text": [
            "nohup: appending output to 'nohup.out'\n"
          ]
        }
      ]
    },
    {
      "cell_type": "code",
      "source": [
        ""
      ],
      "metadata": {
        "id": "EBMDK7WWkqTD"
      },
      "id": "EBMDK7WWkqTD",
      "execution_count": null,
      "outputs": []
    },
    {
      "cell_type": "code",
      "source": [
        ""
      ],
      "metadata": {
        "id": "lhl3e8JNkqRO"
      },
      "id": "lhl3e8JNkqRO",
      "execution_count": null,
      "outputs": []
    }
  ],
  "metadata": {
    "kernelspec": {
      "display_name": "Python 3",
      "language": "python",
      "name": "python3"
    },
    "language_info": {
      "codemirror_mode": {
        "name": "ipython",
        "version": 3
      },
      "file_extension": ".py",
      "mimetype": "text/x-python",
      "name": "python",
      "nbconvert_exporter": "python",
      "pygments_lexer": "ipython3",
      "version": "3.7.12"
    },
    "papermill": {
      "default_parameters": {},
      "duration": 27.163596,
      "end_time": "2022-03-07T10:13:24.393926",
      "environment_variables": {},
      "exception": null,
      "input_path": "__notebook__.ipynb",
      "output_path": "__notebook__.ipynb",
      "parameters": {},
      "start_time": "2022-03-07T10:12:57.230330",
      "version": "2.3.3"
    },
    "colab": {
      "name": "Titanic Survival Prediction.ipynb",
      "provenance": [],
      "include_colab_link": true
    }
  },
  "nbformat": 4,
  "nbformat_minor": 5
}